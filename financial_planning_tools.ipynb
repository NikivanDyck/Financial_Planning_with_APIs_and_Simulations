{
 "cells": [
  {
   "cell_type": "markdown",
   "metadata": {},
   "source": [
    "# Financial Planning with APIs and Simulations\n",
    "\n",
    "In this Challenge, you’ll create two financial analysis tools by using a single Jupyter notebook:\n",
    "\n",
    "Part 1: A financial planner for emergencies. The members will be able to use this tool to visualize their current savings. The members can then determine if they have enough reserves for an emergency fund.\n",
    "\n",
    "Part 2: A financial planner for retirement. This tool will forecast the performance of their retirement portfolio in 30 years. To do this, the tool will make an Alpaca API call via the Alpaca SDK to get historical price data for use in Monte Carlo simulations.\n",
    "\n",
    "You’ll use the information from the Monte Carlo simulation to answer questions about the portfolio in your Jupyter notebook.\n",
    "\n"
   ]
  },
  {
   "cell_type": "code",
   "execution_count": 1,
   "metadata": {},
   "outputs": [],
   "source": [
    "# Import the required libraries and dependencies\n",
    "import os\n",
    "import requests\n",
    "import json\n",
    "import pandas as pd\n",
    "from dotenv import load_dotenv\n",
    "import alpaca_trade_api as tradeapi\n",
    "from MCForecastTools import MCSimulation\n",
    "from datetime import timedelta\n",
    "import datetime\n",
    "\n",
    "%matplotlib inline"
   ]
  },
  {
   "cell_type": "code",
   "execution_count": 2,
   "metadata": {},
   "outputs": [
    {
     "data": {
      "text/plain": [
       "True"
      ]
     },
     "execution_count": 2,
     "metadata": {},
     "output_type": "execute_result"
    }
   ],
   "source": [
    "# Load the environment variables from the .env file\n",
    "#by calling the load_dotenv function\n",
    "load_dotenv()"
   ]
  },
  {
   "cell_type": "markdown",
   "metadata": {},
   "source": [
    "## Part 1: Create a Financial Planner for Emergencies"
   ]
  },
  {
   "cell_type": "markdown",
   "metadata": {},
   "source": [
    "### Evaluate the Cryptocurrency Wallet by Using the Requests Library\n",
    "\n",
    "In this section, you’ll determine the current value of a member’s cryptocurrency wallet. You’ll collect the current prices for the Bitcoin and Ethereum cryptocurrencies by using the Python Requests library. For the prototype, you’ll assume that the member holds the 1.2 Bitcoins (BTC) and 5.3 Ethereum coins (ETH). To do all this, complete the following steps:\n",
    "\n",
    "1. Create a variable named `monthly_income`, and set its value to `12000`.\n",
    "\n",
    "2. Use the Requests library to get the current price (in US dollars) of Bitcoin (BTC) and Ethereum (ETH) by using the API endpoints that the starter code supplies.\n",
    "\n",
    "3. Navigate the JSON response object to access the current price of each coin, and store each in a variable.\n",
    "\n",
    "    > **Hint** Note the specific identifier for each cryptocurrency in the API JSON response. The Bitcoin identifier is `1`, and the Ethereum identifier is `1027`.\n",
    "\n",
    "4. Calculate the value, in US dollars, of the current amount of each cryptocurrency and of the entire cryptocurrency wallet.\n",
    "\n"
   ]
  },
  {
   "cell_type": "code",
   "execution_count": 3,
   "metadata": {},
   "outputs": [],
   "source": [
    "# The current number of coins for each cryptocurrency asset held in the portfolio.\n",
    "btc_coins = 1.2\n",
    "eth_coins = 5.3"
   ]
  },
  {
   "cell_type": "markdown",
   "metadata": {},
   "source": [
    "#### Step 1: Create a variable named `monthly_income`, and set its value to `12000`."
   ]
  },
  {
   "cell_type": "code",
   "execution_count": 4,
   "metadata": {},
   "outputs": [],
   "source": [
    "# The monthly amount for the member's household income\n",
    "\n",
    "monthly_income = 12000"
   ]
  },
  {
   "cell_type": "markdown",
   "metadata": {},
   "source": [
    "#### Review the endpoint URLs for the API calls to Free Crypto API in order to get the current pricing information for both BTC and ETH."
   ]
  },
  {
   "cell_type": "code",
   "execution_count": 5,
   "metadata": {},
   "outputs": [],
   "source": [
    "# The Free Crypto API Call endpoint URLs for the held cryptocurrency assets\n",
    "btc_url = \"https://api.alternative.me/v2/ticker/Bitcoin/?convert=USD\"\n",
    "eth_url = \"https://api.alternative.me/v2/ticker/Ethereum/?convert=USD\""
   ]
  },
  {
   "cell_type": "markdown",
   "metadata": {},
   "source": [
    "#### Step 2. Use the Requests library to get the current price (in US dollars) of Bitcoin (BTC) and Ethereum (ETH) by using the API endpoints that the starter code supplied."
   ]
  },
  {
   "cell_type": "code",
   "execution_count": 6,
   "metadata": {
    "tags": []
   },
   "outputs": [
    {
     "name": "stdout",
     "output_type": "stream",
     "text": [
      "{\n",
      "    \"data\": {\n",
      "        \"1\": {\n",
      "            \"circulating_supply\": 18826231,\n",
      "            \"id\": 1,\n",
      "            \"last_updated\": 1632607462,\n",
      "            \"max_supply\": 21000000,\n",
      "            \"name\": \"Bitcoin\",\n",
      "            \"quotes\": {\n",
      "                \"USD\": {\n",
      "                    \"market_cap\": 803363663785,\n",
      "                    \"percent_change_1h\": 0.140246255286202,\n",
      "                    \"percent_change_24h\": -0.475039967109988,\n",
      "                    \"percent_change_7d\": -9.30129154811414,\n",
      "                    \"percentage_change_1h\": 0.140246255286202,\n",
      "                    \"percentage_change_24h\": -0.475039967109988,\n",
      "                    \"percentage_change_7d\": -9.30129154811414,\n",
      "                    \"price\": 42836.0,\n",
      "                    \"volume_24h\": 31381915690\n",
      "                }\n",
      "            },\n",
      "            \"rank\": 1,\n",
      "            \"symbol\": \"BTC\",\n",
      "            \"total_supply\": 18826231,\n",
      "            \"website_slug\": \"bitcoin\"\n",
      "        }\n",
      "    },\n",
      "    \"metadata\": {\n",
      "        \"error\": null,\n",
      "        \"num_cryptocurrencies\": 3105,\n",
      "        \"timestamp\": 1632607462\n",
      "    }\n",
      "}\n"
     ]
    }
   ],
   "source": [
    "# Using the Python requests library, make an API call to access the current price of BTC\n",
    "btc_response = requests.get(btc_url).json()\n",
    "\n",
    "# Use the json.dumps function to review the response data from the API call\n",
    "# Use the indent and sort_keys parameters to make the response object readable\n",
    "\n",
    "print(json.dumps(btc_response, indent=4, sort_keys=True))"
   ]
  },
  {
   "cell_type": "code",
   "execution_count": 7,
   "metadata": {
    "tags": []
   },
   "outputs": [
    {
     "name": "stdout",
     "output_type": "stream",
     "text": [
      "{\n",
      "    \"data\": {\n",
      "        \"1027\": {\n",
      "            \"circulating_supply\": 117673943,\n",
      "            \"id\": 1027,\n",
      "            \"last_updated\": 1632607452,\n",
      "            \"max_supply\": 0,\n",
      "            \"name\": \"Ethereum\",\n",
      "            \"quotes\": {\n",
      "                \"USD\": {\n",
      "                    \"market_cap\": 343378022534,\n",
      "                    \"percent_change_1h\": -0.0623070361544018,\n",
      "                    \"percent_change_24h\": -1.31688479350506,\n",
      "                    \"percent_change_7d\": -14.2065644785103,\n",
      "                    \"percentage_change_1h\": -0.0623070361544018,\n",
      "                    \"percentage_change_24h\": -1.31688479350506,\n",
      "                    \"percentage_change_7d\": -14.2065644785103,\n",
      "                    \"price\": 2927.42,\n",
      "                    \"volume_24h\": 22353299159\n",
      "                }\n",
      "            },\n",
      "            \"rank\": 2,\n",
      "            \"symbol\": \"ETH\",\n",
      "            \"total_supply\": 117673943,\n",
      "            \"website_slug\": \"ethereum\"\n",
      "        }\n",
      "    },\n",
      "    \"metadata\": {\n",
      "        \"error\": null,\n",
      "        \"num_cryptocurrencies\": 3105,\n",
      "        \"timestamp\": 1632607452\n",
      "    }\n",
      "}\n"
     ]
    }
   ],
   "source": [
    "# Using the Python requests library, make an API call to access the current price ETH\n",
    "eth_response = requests.get(eth_url).json()\n",
    "\n",
    "# Use the json.dumps function to review the response data from the API call\n",
    "# Use the indent and sort_keys parameters to make the response object readable\n",
    "\n",
    "print(json.dumps(eth_response, indent=4, sort_keys=True))"
   ]
  },
  {
   "cell_type": "markdown",
   "metadata": {},
   "source": [
    "#### Step 3: Navigate the JSON response object to access the current price of each coin, and store each in a variable."
   ]
  },
  {
   "cell_type": "code",
   "execution_count": 8,
   "metadata": {},
   "outputs": [
    {
     "data": {
      "text/plain": [
       "42836.0"
      ]
     },
     "execution_count": 8,
     "metadata": {},
     "output_type": "execute_result"
    }
   ],
   "source": [
    "# Navigate the BTC response object to access the current price of BTC\n",
    "btc_price = btc_response[\"data\"][\"1\"][\"quotes\"][\"USD\"][\"price\"]\n",
    "\n",
    "# Print the current price of BTC\n",
    "\n",
    "btc_price"
   ]
  },
  {
   "cell_type": "code",
   "execution_count": 9,
   "metadata": {},
   "outputs": [
    {
     "data": {
      "text/plain": [
       "2927.42"
      ]
     },
     "execution_count": 9,
     "metadata": {},
     "output_type": "execute_result"
    }
   ],
   "source": [
    "# Navigate the BTC response object to access the current price of ETH\n",
    "eth_price = eth_response[\"data\"][\"1027\"][\"quotes\"][\"USD\"][\"price\"]\n",
    "\n",
    "# Print the current price of ETH\n",
    "\n",
    "eth_price\n"
   ]
  },
  {
   "cell_type": "markdown",
   "metadata": {},
   "source": [
    "### Step 4: Calculate the value, in US dollars, of the current amount of each cryptocurrency and of the entire cryptocurrency wallet."
   ]
  },
  {
   "cell_type": "code",
   "execution_count": 10,
   "metadata": {},
   "outputs": [
    {
     "name": "stdout",
     "output_type": "stream",
     "text": [
      "51403.2\n"
     ]
    }
   ],
   "source": [
    "# Compute the current value of the BTC holding \n",
    "btc_value = btc_price*btc_coins\n",
    "\n",
    "# Print current value of your holding in BTC\n",
    "\n",
    "print(btc_value)"
   ]
  },
  {
   "cell_type": "code",
   "execution_count": 11,
   "metadata": {},
   "outputs": [
    {
     "name": "stdout",
     "output_type": "stream",
     "text": [
      "15515.326\n"
     ]
    }
   ],
   "source": [
    "# Compute the current value of the ETH holding \n",
    "eth_value = eth_price*eth_coins\n",
    "\n",
    "# Print current value of your holding in ETH\n",
    "\n",
    "print(eth_value)"
   ]
  },
  {
   "cell_type": "code",
   "execution_count": 12,
   "metadata": {},
   "outputs": [
    {
     "data": {
      "text/plain": [
       "66918.526"
      ]
     },
     "execution_count": 12,
     "metadata": {},
     "output_type": "execute_result"
    }
   ],
   "source": [
    "# Compute the total value of the cryptocurrency wallet\n",
    "# Add the value of the BTC holding to the value of the ETH holding\n",
    "total_crypto_wallet = btc_value + eth_value\n",
    "\n",
    "# Print current cryptocurrency wallet balance\n",
    "\n",
    "total_crypto_wallet"
   ]
  },
  {
   "cell_type": "markdown",
   "metadata": {},
   "source": [
    "### Evaluate the Stock and Bond Holdings by Using the Alpaca SDK\n",
    "\n",
    "In this section, you’ll determine the current value of a member’s stock and bond holdings. You’ll make an API call to Alpaca via the Alpaca SDK to get the current closing prices of the SPDR S&P 500 ETF Trust (ticker: SPY) and of the iShares Core US Aggregate Bond ETF (ticker: AGG). For the prototype, assume that the member holds 110 shares of SPY, which represents the stock portion of their portfolio, and 200 shares of AGG, which represents the bond portion. To do all this, complete the following steps:\n",
    "\n",
    "1. In the `Starter_Code` folder, create an environment file (`.env`) to store the values of your Alpaca API key and Alpaca secret key.\n",
    "\n",
    "2. Set the variables for the Alpaca API and secret keys. Using the Alpaca SDK, create the Alpaca `tradeapi.REST` object. In this object, include the parameters for the Alpaca API key, the secret key, and the version number.\n",
    "\n",
    "3. Set the following parameters for the Alpaca API call:\n",
    "\n",
    "    - `tickers`: Use the tickers for the member’s stock and bond holdings.\n",
    "\n",
    "    - `timeframe`: Use a time frame of one day.\n",
    "\n",
    "    - `start_date` and `end_date`: Use the same date for these parameters, and format them with the date of the previous weekday (or `2020-08-07`). This is because you want the one closing price for the most-recent trading day.\n",
    "\n",
    "4. Get the current closing prices for `SPY` and `AGG` by using the Alpaca `get_barset` function. Format the response as a Pandas DataFrame by including the `df` property at the end of the `get_barset` function.\n",
    "\n",
    "5. Navigating the Alpaca response DataFrame, select the `SPY` and `AGG` closing prices, and store them as variables.\n",
    "\n",
    "6. Calculate the value, in US dollars, of the current amount of shares in each of the stock and bond portions of the portfolio, and print the results.\n"
   ]
  },
  {
   "cell_type": "markdown",
   "metadata": {},
   "source": [
    "#### Review the total number of shares held in both (SPY) and (AGG)."
   ]
  },
  {
   "cell_type": "code",
   "execution_count": 13,
   "metadata": {},
   "outputs": [],
   "source": [
    "# Current amount of shares held in both the stock (SPY) and bond (AGG) portion of the portfolio.\n",
    "spy_shares = 110\n",
    "agg_shares = 200\n"
   ]
  },
  {
   "cell_type": "markdown",
   "metadata": {},
   "source": [
    "#### Step 1: In the `Starter_Code` folder, create an environment file (`.env`) to store the values of your Alpaca API key and Alpaca secret key."
   ]
  },
  {
   "cell_type": "markdown",
   "metadata": {},
   "source": [
    "#### Step 2: Set the variables for the Alpaca API and secret keys. Using the Alpaca SDK, create the Alpaca `tradeapi.REST` object. In this object, include the parameters for the Alpaca API key, the secret key, and the version number."
   ]
  },
  {
   "cell_type": "code",
   "execution_count": 14,
   "metadata": {},
   "outputs": [],
   "source": [
    "# Set the variables for the Alpaca API and secret keys\n",
    "load_dotenv()\n",
    "alpaca_api_key = os.getenv(\"ALPACA_API_KEY\")\n",
    "alpaca_secret_key = os.getenv(\"ALPACA_SECRET_KEY\")\n",
    "\n",
    "# Create the Alpaca tradeapi.REST object\n",
    "alpaca = tradeapi.REST(\n",
    "    alpaca_api_key,\n",
    "    alpaca_secret_key,\n",
    "    api_version=\"v2\")"
   ]
  },
  {
   "cell_type": "markdown",
   "metadata": {},
   "source": [
    "#### Step 3: Set the following parameters for the Alpaca API call:\n",
    "\n",
    "- `tickers`: Use the tickers for the member’s stock and bond holdings.\n",
    "\n",
    "- `timeframe`: Use a time frame of one day.\n",
    "\n",
    "- `start_date` and `end_date`: Use the same date for these parameters, and format them with the date of the previous weekday (or `2020-08-07`). This is because you want the one closing price for the most-recent trading day.\n"
   ]
  },
  {
   "cell_type": "code",
   "execution_count": 15,
   "metadata": {},
   "outputs": [],
   "source": [
    "# Set the tickers for both the bond and stock portion of the portfolio\n",
    "tickers = [\"SPY\", \"AGG\"]\n",
    "\n",
    "# Set timeframe to 1D \n",
    "timeframe = \"1D\"\n",
    "\n",
    "# Format current date as ISO format\n",
    "# Set both the start and end date at the date of your prior weekday \n",
    "# This will give you the closing price of the previous trading day\n",
    "# Alternatively you can use a start and end date of 2020-08-07\n",
    "\n",
    "#Script to use on a market day,  IE:Non-weekend or holiday \n",
    "\n",
    "#current_date = datetime.datetime.today().strftime(\"%Y-%m-%d\")\n",
    "#start_date = pd.Timestamp(current_date, tz=\"America/New_York\").isoformat()\n",
    "#end_date = pd.Timestamp(current_date, tz=\"America/New_York\").isoformat()\n",
    "\n",
    "start_date = pd.Timestamp(\"2020-08-07\", tz=\"America/New_York\").isoformat()\n",
    "end_date = pd.Timestamp (\"2020-08-07\", tz=\"America/New_York\").isoformat()"
   ]
  },
  {
   "cell_type": "code",
   "execution_count": 16,
   "metadata": {},
   "outputs": [
    {
     "name": "stdout",
     "output_type": "stream",
     "text": [
      "2021-09-25\n"
     ]
    }
   ],
   "source": [
    "#testing date feature, comfimring \"today\" result\n",
    "\n",
    "print(datetime.datetime.today().strftime(\"%Y-%m-%d\"))"
   ]
  },
  {
   "cell_type": "markdown",
   "metadata": {},
   "source": [
    "#### Step 4: Get the current closing prices for `SPY` and `AGG` by using the Alpaca `get_barset` function. Format the response as a Pandas DataFrame by including the `df` property at the end of the `get_barset` function."
   ]
  },
  {
   "cell_type": "code",
   "execution_count": 17,
   "metadata": {},
   "outputs": [
    {
     "data": {
      "text/html": [
       "<div>\n",
       "<style scoped>\n",
       "    .dataframe tbody tr th:only-of-type {\n",
       "        vertical-align: middle;\n",
       "    }\n",
       "\n",
       "    .dataframe tbody tr th {\n",
       "        vertical-align: top;\n",
       "    }\n",
       "\n",
       "    .dataframe thead tr th {\n",
       "        text-align: left;\n",
       "    }\n",
       "\n",
       "    .dataframe thead tr:last-of-type th {\n",
       "        text-align: right;\n",
       "    }\n",
       "</style>\n",
       "<table border=\"1\" class=\"dataframe\">\n",
       "  <thead>\n",
       "    <tr>\n",
       "      <th></th>\n",
       "      <th colspan=\"5\" halign=\"left\">AGG</th>\n",
       "      <th colspan=\"5\" halign=\"left\">SPY</th>\n",
       "    </tr>\n",
       "    <tr>\n",
       "      <th></th>\n",
       "      <th>open</th>\n",
       "      <th>high</th>\n",
       "      <th>low</th>\n",
       "      <th>close</th>\n",
       "      <th>volume</th>\n",
       "      <th>open</th>\n",
       "      <th>high</th>\n",
       "      <th>low</th>\n",
       "      <th>close</th>\n",
       "      <th>volume</th>\n",
       "    </tr>\n",
       "    <tr>\n",
       "      <th>time</th>\n",
       "      <th></th>\n",
       "      <th></th>\n",
       "      <th></th>\n",
       "      <th></th>\n",
       "      <th></th>\n",
       "      <th></th>\n",
       "      <th></th>\n",
       "      <th></th>\n",
       "      <th></th>\n",
       "      <th></th>\n",
       "    </tr>\n",
       "  </thead>\n",
       "  <tbody>\n",
       "    <tr>\n",
       "      <th>2020-08-07 00:00:00-04:00</th>\n",
       "      <td>119.66</td>\n",
       "      <td>119.730</td>\n",
       "      <td>119.395</td>\n",
       "      <td>119.445</td>\n",
       "      <td>8830420</td>\n",
       "      <td>333.28</td>\n",
       "      <td>334.8800</td>\n",
       "      <td>332.3000</td>\n",
       "      <td>334.55</td>\n",
       "      <td>98710236</td>\n",
       "    </tr>\n",
       "    <tr>\n",
       "      <th>2020-08-10 00:00:00-04:00</th>\n",
       "      <td>119.62</td>\n",
       "      <td>119.635</td>\n",
       "      <td>119.280</td>\n",
       "      <td>119.330</td>\n",
       "      <td>8754150</td>\n",
       "      <td>335.06</td>\n",
       "      <td>335.7700</td>\n",
       "      <td>332.9550</td>\n",
       "      <td>335.55</td>\n",
       "      <td>76546162</td>\n",
       "    </tr>\n",
       "    <tr>\n",
       "      <th>2020-08-11 00:00:00-04:00</th>\n",
       "      <td>119.11</td>\n",
       "      <td>119.210</td>\n",
       "      <td>118.840</td>\n",
       "      <td>118.985</td>\n",
       "      <td>10883100</td>\n",
       "      <td>336.85</td>\n",
       "      <td>337.5400</td>\n",
       "      <td>332.0100</td>\n",
       "      <td>332.82</td>\n",
       "      <td>117799447</td>\n",
       "    </tr>\n",
       "    <tr>\n",
       "      <th>2020-08-12 00:00:00-04:00</th>\n",
       "      <td>118.73</td>\n",
       "      <td>118.890</td>\n",
       "      <td>118.650</td>\n",
       "      <td>118.760</td>\n",
       "      <td>9097248</td>\n",
       "      <td>335.44</td>\n",
       "      <td>338.2800</td>\n",
       "      <td>332.8377</td>\n",
       "      <td>337.42</td>\n",
       "      <td>91230107</td>\n",
       "    </tr>\n",
       "    <tr>\n",
       "      <th>2020-08-13 00:00:00-04:00</th>\n",
       "      <td>118.78</td>\n",
       "      <td>118.780</td>\n",
       "      <td>118.240</td>\n",
       "      <td>118.320</td>\n",
       "      <td>5141695</td>\n",
       "      <td>336.61</td>\n",
       "      <td>338.2514</td>\n",
       "      <td>335.8300</td>\n",
       "      <td>336.86</td>\n",
       "      <td>36982397</td>\n",
       "    </tr>\n",
       "  </tbody>\n",
       "</table>\n",
       "</div>"
      ],
      "text/plain": [
       "                              AGG                                       \\\n",
       "                             open     high      low    close    volume   \n",
       "time                                                                     \n",
       "2020-08-07 00:00:00-04:00  119.66  119.730  119.395  119.445   8830420   \n",
       "2020-08-10 00:00:00-04:00  119.62  119.635  119.280  119.330   8754150   \n",
       "2020-08-11 00:00:00-04:00  119.11  119.210  118.840  118.985  10883100   \n",
       "2020-08-12 00:00:00-04:00  118.73  118.890  118.650  118.760   9097248   \n",
       "2020-08-13 00:00:00-04:00  118.78  118.780  118.240  118.320   5141695   \n",
       "\n",
       "                              SPY                                         \n",
       "                             open      high       low   close     volume  \n",
       "time                                                                      \n",
       "2020-08-07 00:00:00-04:00  333.28  334.8800  332.3000  334.55   98710236  \n",
       "2020-08-10 00:00:00-04:00  335.06  335.7700  332.9550  335.55   76546162  \n",
       "2020-08-11 00:00:00-04:00  336.85  337.5400  332.0100  332.82  117799447  \n",
       "2020-08-12 00:00:00-04:00  335.44  338.2800  332.8377  337.42   91230107  \n",
       "2020-08-13 00:00:00-04:00  336.61  338.2514  335.8300  336.86   36982397  "
      ]
     },
     "execution_count": 17,
     "metadata": {},
     "output_type": "execute_result"
    }
   ],
   "source": [
    "# Use the Alpaca get_barset function to get current closing prices the portfolio\n",
    "# Be sure to set the `df` property after the function to format the response object as a DataFrame\n",
    "\n",
    "df_portfolio = alpaca.get_barset(\n",
    "    tickers,\n",
    "    timeframe,\n",
    "    start = start_date,\n",
    "    limit = 1000\n",
    ").df\n",
    "\n",
    "# Review the first 5 rows of the Alpaca DataFrame\n",
    "# YOUR CODE HERE\n",
    "\n",
    "df_portfolio.head()\n"
   ]
  },
  {
   "cell_type": "markdown",
   "metadata": {},
   "source": [
    "#### Step 5: Navigating the Alpaca response DataFrame, select the `SPY` and `AGG` closing prices, and store them as variables."
   ]
  },
  {
   "cell_type": "code",
   "execution_count": 18,
   "metadata": {},
   "outputs": [
    {
     "name": "stdout",
     "output_type": "stream",
     "text": [
      "119.445\n"
     ]
    }
   ],
   "source": [
    "# Access the closing price for AGG from the Alpaca DataFrame\n",
    "# Converting the value to a floating point number\n",
    "agg_close_price = float(df_portfolio[\"AGG\"][\"close\"][0])\n",
    "#agg_close_price.index = agg_close_price.index.date\n",
    "\n",
    "\n",
    "# Print the AGG closing price\n",
    "print(agg_close_price)"
   ]
  },
  {
   "cell_type": "code",
   "execution_count": 19,
   "metadata": {},
   "outputs": [
    {
     "name": "stdout",
     "output_type": "stream",
     "text": [
      "334.55\n"
     ]
    }
   ],
   "source": [
    "# Access the closing price for SPY from the Alpaca DataFrame\n",
    "# Converting the value to a floating point number\n",
    "spy_close_price = float(df_portfolio[\"SPY\"][\"close\"][0])\n",
    "#spy_close_price.index = spy_close_price.index.date\n",
    "\n",
    "# Print the SPY closing price\n",
    "print(spy_close_price)\n"
   ]
  },
  {
   "cell_type": "markdown",
   "metadata": {},
   "source": [
    "#### Step 6: Calculate the value, in US dollars, of the current amount of shares in each of the stock and bond portions of the portfolio, and print the results."
   ]
  },
  {
   "cell_type": "code",
   "execution_count": 20,
   "metadata": {},
   "outputs": [
    {
     "name": "stdout",
     "output_type": "stream",
     "text": [
      "23889.0\n"
     ]
    }
   ],
   "source": [
    "# Calculate the current value of the bond portion of the portfolio\n",
    "agg_value = agg_close_price * agg_shares\n",
    "\n",
    "# Print the current value of the bond portfolio\n",
    "print(agg_value)"
   ]
  },
  {
   "cell_type": "code",
   "execution_count": 21,
   "metadata": {},
   "outputs": [
    {
     "name": "stdout",
     "output_type": "stream",
     "text": [
      "36800.5\n"
     ]
    }
   ],
   "source": [
    "# Calculate the current value of the stock portion of the portfolio\n",
    "spy_value = spy_close_price * spy_shares\n",
    "\n",
    "# Print the current value of the stock portfolio\n",
    "print(spy_value)"
   ]
  },
  {
   "cell_type": "code",
   "execution_count": 22,
   "metadata": {},
   "outputs": [
    {
     "name": "stdout",
     "output_type": "stream",
     "text": [
      "60689.5\n"
     ]
    }
   ],
   "source": [
    "# Calculate the total value of the stock and bond portion of the portfolio\n",
    "total_stocks_bonds = agg_value + spy_value\n",
    "\n",
    "# Print the current balance of the stock and bond portion of the portfolio\n",
    "print(total_stocks_bonds)"
   ]
  },
  {
   "cell_type": "code",
   "execution_count": 23,
   "metadata": {},
   "outputs": [
    {
     "name": "stdout",
     "output_type": "stream",
     "text": [
      "127608.026\n"
     ]
    }
   ],
   "source": [
    "# Calculate the total value of the member's entire savings portfolio\n",
    "# Add the value of the cryptocurrency walled to the value of the total stocks and bonds\n",
    "total_portfolio = total_stocks_bonds + total_crypto_wallet\n",
    "\n",
    "# Print current cryptocurrency wallet balance\n",
    "print(total_portfolio)"
   ]
  },
  {
   "cell_type": "markdown",
   "metadata": {},
   "source": [
    "### Evaluate the Emergency Fund\n",
    "\n",
    "In this section, you’ll use the valuations for the cryptocurrency wallet and for the stock and bond portions of the portfolio to determine if the credit union member has enough savings to build an emergency fund into their financial plan. To do this, complete the following steps:\n",
    "\n",
    "1. Create a Python list named `savings_data` that has two elements. The first element contains the total value of the cryptocurrency wallet. The second element contains the total value of the stock and bond portions of the portfolio.\n",
    "\n",
    "2. Use the `savings_data` list to create a Pandas DataFrame named `savings_df`, and then display this DataFrame. The function to create the DataFrame should take the following three parameters:\n",
    "\n",
    "    - `savings_data`: Use the list that you just created.\n",
    "\n",
    "    - `columns`: Set this parameter equal to a Python list with a single value called `amount`.\n",
    "\n",
    "    - `index`: Set this parameter equal to a Python list with the values of `crypto` and `stock/bond`.\n",
    "\n",
    "3. Use the `savings_df` DataFrame to plot a pie chart that visualizes the composition of the member’s portfolio. The y-axis of the pie chart uses `amount`. Be sure to add a title.\n",
    "\n",
    "4. Using Python, determine if the current portfolio has enough to create an emergency fund as part of the member’s financial plan. Ideally, an emergency fund should equal to three times the member’s monthly income. To do this, implement the following steps:\n",
    "\n",
    "    1. Create a variable named `emergency_fund_value`, and set it equal to three times the value of the member’s `monthly_income` of $12000. (You set this earlier in Part 1).\n",
    "\n",
    "    2. Create a series of three if statements to determine if the member’s total portfolio is large enough to fund the emergency portfolio:\n",
    "\n",
    "        1. If the total portfolio value is greater than the emergency fund value, display a message congratulating the member for having enough money in this fund.\n",
    "\n",
    "        2. Else if the total portfolio value is equal to the emergency fund value, display a message congratulating the member on reaching this important financial goal.\n",
    "\n",
    "        3. Else the total portfolio is less than the emergency fund value, so display a message showing how many dollars away the member is from reaching the goal. (Subtract the total portfolio value from the emergency fund value.)\n"
   ]
  },
  {
   "cell_type": "markdown",
   "metadata": {},
   "source": [
    "#### Step 1: Create a Python list named `savings_data` that has two elements. The first element contains the total value of the cryptocurrency wallet. The second element contains the total value of the stock and bond portions of the portfolio."
   ]
  },
  {
   "cell_type": "code",
   "execution_count": 24,
   "metadata": {},
   "outputs": [
    {
     "name": "stdout",
     "output_type": "stream",
     "text": [
      "[66918.526, 60689.5]\n"
     ]
    }
   ],
   "source": [
    "# Consolidate financial assets data into a Python list\n",
    "savings_data = [total_crypto_wallet, total_stocks_bonds]\n",
    "\n",
    "# Review the Python list savings_data\n",
    "print (savings_data)   "
   ]
  },
  {
   "cell_type": "markdown",
   "metadata": {},
   "source": [
    "#### Step 2: Use the `savings_data` list to create a Pandas DataFrame named `savings_df`, and then display this DataFrame. The function to create the DataFrame should take the following three parameters:\n",
    "\n",
    "- `savings_data`: Use the list that you just created.\n",
    "\n",
    "- `columns`: Set this parameter equal to a Python list with a single value called `amount`.\n",
    "\n",
    "- `index`: Set this parameter equal to a Python list with the values of `crypto` and `stock/bond`.\n"
   ]
  },
  {
   "cell_type": "code",
   "execution_count": 25,
   "metadata": {},
   "outputs": [
    {
     "data": {
      "text/html": [
       "<div>\n",
       "<style scoped>\n",
       "    .dataframe tbody tr th:only-of-type {\n",
       "        vertical-align: middle;\n",
       "    }\n",
       "\n",
       "    .dataframe tbody tr th {\n",
       "        vertical-align: top;\n",
       "    }\n",
       "\n",
       "    .dataframe thead th {\n",
       "        text-align: right;\n",
       "    }\n",
       "</style>\n",
       "<table border=\"1\" class=\"dataframe\">\n",
       "  <thead>\n",
       "    <tr style=\"text-align: right;\">\n",
       "      <th></th>\n",
       "      <th>amount</th>\n",
       "    </tr>\n",
       "  </thead>\n",
       "  <tbody>\n",
       "    <tr>\n",
       "      <th>crypto</th>\n",
       "      <td>66918.526</td>\n",
       "    </tr>\n",
       "    <tr>\n",
       "      <th>stock/bond</th>\n",
       "      <td>60689.500</td>\n",
       "    </tr>\n",
       "  </tbody>\n",
       "</table>\n",
       "</div>"
      ],
      "text/plain": [
       "               amount\n",
       "crypto      66918.526\n",
       "stock/bond  60689.500"
      ]
     },
     "execution_count": 25,
     "metadata": {},
     "output_type": "execute_result"
    }
   ],
   "source": [
    "# Create a Pandas DataFrame called savings_df \n",
    "savings_df = pd.DataFrame(savings_data, columns=[\"amount\"], index=[\"crypto\", \"stock/bond\"])\n",
    "\n",
    "# Display the savings_df DataFrame\n",
    "savings_df"
   ]
  },
  {
   "cell_type": "markdown",
   "metadata": {},
   "source": [
    "#### Step 3: Use the `savings_df` DataFrame to plot a pie chart that visualizes the composition of the member’s portfolio. The y-axis of the pie chart uses `amount`. Be sure to add a title."
   ]
  },
  {
   "cell_type": "code",
   "execution_count": 26,
   "metadata": {
    "tags": []
   },
   "outputs": [
    {
     "data": {
      "text/plain": [
       "<AxesSubplot:title={'center':'composition of portfolio'}, ylabel='amount'>"
      ]
     },
     "execution_count": 26,
     "metadata": {},
     "output_type": "execute_result"
    },
    {
     "data": {
      "image/png": "[encoded data removed]",
      "text/plain": [
       "<Figure size 432x432 with 1 Axes>"
      ]
     },
     "metadata": {},
     "output_type": "display_data"
    }
   ],
   "source": [
    "# Plot the total value of the member's portfolio (crypto and stock/bond) in a pie chart\n",
    "savings_df.plot(kind=\"pie\", y=\"amount\", figsize=(6,6), title=\"composition of portfolio\")"
   ]
  },
  {
   "cell_type": "markdown",
   "metadata": {},
   "source": [
    "#### Step 4: Using Python, determine if the current portfolio has enough to create an emergency fund as part of the member’s financial plan. Ideally, an emergency fund should equal to three times the member’s monthly income. To do this, implement the following steps:\n",
    "\n",
    "Step 1. Create a variable named `emergency_fund_value`, and set it equal to three times the value of the member’s `monthly_income` of 12000. (You set this earlier in Part 1).\n",
    "\n",
    "Step 2. Create a series of three if statements to determine if the member’s total portfolio is large enough to fund the emergency portfolio:\n",
    "\n",
    "* If the total portfolio value is greater than the emergency fund value, display a message congratulating the member for having enough money in this fund.\n",
    "\n",
    "* Else if the total portfolio value is equal to the emergency fund value, display a message congratulating the member on reaching this important financial goal.\n",
    "\n",
    "* Else the total portfolio is less than the emergency fund value, so display a message showing how many dollars away the member is from reaching the goal. (Subtract the total portfolio value from the emergency fund value.)\n"
   ]
  },
  {
   "cell_type": "markdown",
   "metadata": {},
   "source": [
    "##### Step 4-1: Create a variable named `emergency_fund_value`, and set it equal to three times the value of the member’s `monthly_income` of 12000. (You set this earlier in Part 1)."
   ]
  },
  {
   "cell_type": "code",
   "execution_count": 27,
   "metadata": {},
   "outputs": [
    {
     "data": {
      "text/plain": [
       "36000"
      ]
     },
     "execution_count": 27,
     "metadata": {},
     "output_type": "execute_result"
    }
   ],
   "source": [
    "# Create a variable named emergency_fund_value\n",
    "emergency_fund_value = 3*monthly_income\n",
    "\n",
    "emergency_fund_value"
   ]
  },
  {
   "cell_type": "code",
   "execution_count": 28,
   "metadata": {},
   "outputs": [
    {
     "name": "stdout",
     "output_type": "stream",
     "text": [
      "Congrataulations you have an adequate emergency fund\n"
     ]
    }
   ],
   "source": [
    "# Evaluate the possibility of creating an emergency fund with 3 conditions:\n",
    "\n",
    "if emergency_fund_value < total_portfolio:\n",
    "    print (\"Congrataulations you have an adequate emergency fund\")\n",
    "elif emergency_fund_value == total_portfolio:\n",
    "    print(\"Congratulations for meeting the important financial goal of creating an adequate emergency fund\")\n",
    "elif emergency_fund_value > total_portfolio:\n",
    "    print (f\" Youre {total_portfolio - emergency_fund_value} away from meeting your emergency fund goal\")\n"
   ]
  },
  {
   "cell_type": "markdown",
   "metadata": {},
   "source": [
    "## Part 2: Create a Financial Planner for Retirement"
   ]
  },
  {
   "cell_type": "markdown",
   "metadata": {},
   "source": [
    "### Create the Monte Carlo Simulation\n",
    "\n",
    "In this section, you’ll use the MCForecastTools library to create a Monte Carlo simulation for the member’s savings portfolio. To do this, complete the following steps:\n",
    "\n",
    "1. Make an API call via the Alpaca SDK to get 3 years of historical closing prices for a traditional 60/40 portfolio split: 60% stocks (SPY) and 40% bonds (AGG).\n",
    "\n",
    "2. Run a Monte Carlo simulation of 500 samples and 30 years for the 60/40 portfolio, and then plot the results.The following image shows the overlay line plot resulting from a simulation with these characteristics. However, because a random number generator is used to run each live Monte Carlo simulation, your image will differ slightly from this exact image:\n",
    "\n",
    "![A screenshot depicts the resulting plot.](Images/5-4-monte-carlo-line-plot.png)\n",
    "\n",
    "3. Plot the probability distribution of the Monte Carlo simulation. Plot the probability distribution of the Monte Carlo simulation. The following image shows the histogram plot resulting from a simulation with these characteristics. However, because a random number generator is used to run each live Monte Carlo simulation, your image will differ slightly from this exact image:\n",
    "\n",
    "![A screenshot depicts the histogram plot.](Images/5-4-monte-carlo-histogram.png)\n",
    "\n",
    "4. Generate the summary statistics for the Monte Carlo simulation.\n",
    "\n"
   ]
  },
  {
   "cell_type": "markdown",
   "metadata": {},
   "source": [
    "#### Step 1: Make an API call via the Alpaca SDK to get 3 years of historical closing prices for a traditional 60/40 portfolio split: 60% stocks (SPY) and 40% bonds (AGG)."
   ]
  },
  {
   "cell_type": "code",
   "execution_count": 29,
   "metadata": {},
   "outputs": [],
   "source": [
    "# Set start and end dates of 3 years back from your current date\n",
    "# Alternatively, you can use an end date of 2020-08-07 and work 3 years back from that date \n",
    "start_date = pd.Timestamp(\"2018-08-07\", tz=\"America/New_York\").isoformat()\n",
    "end_date = pd.Timestamp(\"2020-08-07\", tz=\"America/New_York\").isoformat()\n",
    "\n",
    "# Set number of rows to 1000 to retrieve the maximum amount of rows\n",
    "limit_rows = 1000\n"
   ]
  },
  {
   "cell_type": "code",
   "execution_count": 30,
   "metadata": {},
   "outputs": [
    {
     "data": {
      "text/html": [
       "<div>\n",
       "<style scoped>\n",
       "    .dataframe tbody tr th:only-of-type {\n",
       "        vertical-align: middle;\n",
       "    }\n",
       "\n",
       "    .dataframe tbody tr th {\n",
       "        vertical-align: top;\n",
       "    }\n",
       "\n",
       "    .dataframe thead tr th {\n",
       "        text-align: left;\n",
       "    }\n",
       "\n",
       "    .dataframe thead tr:last-of-type th {\n",
       "        text-align: right;\n",
       "    }\n",
       "</style>\n",
       "<table border=\"1\" class=\"dataframe\">\n",
       "  <thead>\n",
       "    <tr>\n",
       "      <th></th>\n",
       "      <th colspan=\"5\" halign=\"left\">AGG</th>\n",
       "      <th colspan=\"5\" halign=\"left\">SPY</th>\n",
       "    </tr>\n",
       "    <tr>\n",
       "      <th></th>\n",
       "      <th>open</th>\n",
       "      <th>high</th>\n",
       "      <th>low</th>\n",
       "      <th>close</th>\n",
       "      <th>volume</th>\n",
       "      <th>open</th>\n",
       "      <th>high</th>\n",
       "      <th>low</th>\n",
       "      <th>close</th>\n",
       "      <th>volume</th>\n",
       "    </tr>\n",
       "    <tr>\n",
       "      <th>time</th>\n",
       "      <th></th>\n",
       "      <th></th>\n",
       "      <th></th>\n",
       "      <th></th>\n",
       "      <th></th>\n",
       "      <th></th>\n",
       "      <th></th>\n",
       "      <th></th>\n",
       "      <th></th>\n",
       "      <th></th>\n",
       "    </tr>\n",
       "  </thead>\n",
       "  <tbody>\n",
       "    <tr>\n",
       "      <th>2018-08-17 00:00:00-04:00</th>\n",
       "      <td>106.43</td>\n",
       "      <td>106.545</td>\n",
       "      <td>106.38</td>\n",
       "      <td>106.460</td>\n",
       "      <td>1915186.0</td>\n",
       "      <td>283.83</td>\n",
       "      <td>285.5601</td>\n",
       "      <td>283.370</td>\n",
       "      <td>285.02</td>\n",
       "      <td>43630918</td>\n",
       "    </tr>\n",
       "    <tr>\n",
       "      <th>2018-08-20 00:00:00-04:00</th>\n",
       "      <td>106.59</td>\n",
       "      <td>106.680</td>\n",
       "      <td>106.53</td>\n",
       "      <td>106.650</td>\n",
       "      <td>2105513.0</td>\n",
       "      <td>285.57</td>\n",
       "      <td>285.9700</td>\n",
       "      <td>285.060</td>\n",
       "      <td>285.71</td>\n",
       "      <td>27878971</td>\n",
       "    </tr>\n",
       "    <tr>\n",
       "      <th>2018-08-21 00:00:00-04:00</th>\n",
       "      <td>106.58</td>\n",
       "      <td>106.620</td>\n",
       "      <td>106.51</td>\n",
       "      <td>106.575</td>\n",
       "      <td>2596721.0</td>\n",
       "      <td>286.24</td>\n",
       "      <td>287.3100</td>\n",
       "      <td>286.105</td>\n",
       "      <td>286.25</td>\n",
       "      <td>47719238</td>\n",
       "    </tr>\n",
       "    <tr>\n",
       "      <th>2018-08-22 00:00:00-04:00</th>\n",
       "      <td>106.66</td>\n",
       "      <td>106.710</td>\n",
       "      <td>106.57</td>\n",
       "      <td>106.660</td>\n",
       "      <td>1725557.0</td>\n",
       "      <td>285.88</td>\n",
       "      <td>286.7600</td>\n",
       "      <td>285.575</td>\n",
       "      <td>286.20</td>\n",
       "      <td>32602524</td>\n",
       "    </tr>\n",
       "    <tr>\n",
       "      <th>2018-08-23 00:00:00-04:00</th>\n",
       "      <td>106.67</td>\n",
       "      <td>106.705</td>\n",
       "      <td>106.62</td>\n",
       "      <td>106.620</td>\n",
       "      <td>1346950.0</td>\n",
       "      <td>285.97</td>\n",
       "      <td>286.9400</td>\n",
       "      <td>285.430</td>\n",
       "      <td>285.77</td>\n",
       "      <td>35732521</td>\n",
       "    </tr>\n",
       "  </tbody>\n",
       "</table>\n",
       "</div>"
      ],
      "text/plain": [
       "                              AGG                                       \\\n",
       "                             open     high     low    close     volume   \n",
       "time                                                                     \n",
       "2018-08-17 00:00:00-04:00  106.43  106.545  106.38  106.460  1915186.0   \n",
       "2018-08-20 00:00:00-04:00  106.59  106.680  106.53  106.650  2105513.0   \n",
       "2018-08-21 00:00:00-04:00  106.58  106.620  106.51  106.575  2596721.0   \n",
       "2018-08-22 00:00:00-04:00  106.66  106.710  106.57  106.660  1725557.0   \n",
       "2018-08-23 00:00:00-04:00  106.67  106.705  106.62  106.620  1346950.0   \n",
       "\n",
       "                              SPY                                       \n",
       "                             open      high      low   close    volume  \n",
       "time                                                                    \n",
       "2018-08-17 00:00:00-04:00  283.83  285.5601  283.370  285.02  43630918  \n",
       "2018-08-20 00:00:00-04:00  285.57  285.9700  285.060  285.71  27878971  \n",
       "2018-08-21 00:00:00-04:00  286.24  287.3100  286.105  286.25  47719238  \n",
       "2018-08-22 00:00:00-04:00  285.88  286.7600  285.575  286.20  32602524  \n",
       "2018-08-23 00:00:00-04:00  285.97  286.9400  285.430  285.77  35732521  "
      ]
     },
     "metadata": {},
     "output_type": "display_data"
    },
    {
     "data": {
      "text/html": [
       "<div>\n",
       "<style scoped>\n",
       "    .dataframe tbody tr th:only-of-type {\n",
       "        vertical-align: middle;\n",
       "    }\n",
       "\n",
       "    .dataframe tbody tr th {\n",
       "        vertical-align: top;\n",
       "    }\n",
       "\n",
       "    .dataframe thead tr th {\n",
       "        text-align: left;\n",
       "    }\n",
       "\n",
       "    .dataframe thead tr:last-of-type th {\n",
       "        text-align: right;\n",
       "    }\n",
       "</style>\n",
       "<table border=\"1\" class=\"dataframe\">\n",
       "  <thead>\n",
       "    <tr>\n",
       "      <th></th>\n",
       "      <th colspan=\"5\" halign=\"left\">AGG</th>\n",
       "      <th colspan=\"5\" halign=\"left\">SPY</th>\n",
       "    </tr>\n",
       "    <tr>\n",
       "      <th></th>\n",
       "      <th>open</th>\n",
       "      <th>high</th>\n",
       "      <th>low</th>\n",
       "      <th>close</th>\n",
       "      <th>volume</th>\n",
       "      <th>open</th>\n",
       "      <th>high</th>\n",
       "      <th>low</th>\n",
       "      <th>close</th>\n",
       "      <th>volume</th>\n",
       "    </tr>\n",
       "    <tr>\n",
       "      <th>time</th>\n",
       "      <th></th>\n",
       "      <th></th>\n",
       "      <th></th>\n",
       "      <th></th>\n",
       "      <th></th>\n",
       "      <th></th>\n",
       "      <th></th>\n",
       "      <th></th>\n",
       "      <th></th>\n",
       "      <th></th>\n",
       "    </tr>\n",
       "  </thead>\n",
       "  <tbody>\n",
       "    <tr>\n",
       "      <th>2020-08-03 00:00:00-04:00</th>\n",
       "      <td>119.37</td>\n",
       "      <td>119.40</td>\n",
       "      <td>119.1903</td>\n",
       "      <td>119.400</td>\n",
       "      <td>17837420.0</td>\n",
       "      <td>328.3200</td>\n",
       "      <td>329.62</td>\n",
       "      <td>327.73</td>\n",
       "      <td>328.76</td>\n",
       "      <td>71741125</td>\n",
       "    </tr>\n",
       "    <tr>\n",
       "      <th>2020-08-04 00:00:00-04:00</th>\n",
       "      <td>119.42</td>\n",
       "      <td>119.63</td>\n",
       "      <td>119.4200</td>\n",
       "      <td>119.630</td>\n",
       "      <td>21512268.0</td>\n",
       "      <td>327.8600</td>\n",
       "      <td>330.06</td>\n",
       "      <td>327.86</td>\n",
       "      <td>330.03</td>\n",
       "      <td>73684427</td>\n",
       "    </tr>\n",
       "    <tr>\n",
       "      <th>2020-08-05 00:00:00-04:00</th>\n",
       "      <td>119.39</td>\n",
       "      <td>119.49</td>\n",
       "      <td>119.3100</td>\n",
       "      <td>119.400</td>\n",
       "      <td>34175883.0</td>\n",
       "      <td>331.4700</td>\n",
       "      <td>332.39</td>\n",
       "      <td>331.18</td>\n",
       "      <td>332.06</td>\n",
       "      <td>72846458</td>\n",
       "    </tr>\n",
       "    <tr>\n",
       "      <th>2020-08-06 00:00:00-04:00</th>\n",
       "      <td>119.62</td>\n",
       "      <td>119.73</td>\n",
       "      <td>119.5300</td>\n",
       "      <td>119.580</td>\n",
       "      <td>9009216.0</td>\n",
       "      <td>331.4799</td>\n",
       "      <td>334.46</td>\n",
       "      <td>331.13</td>\n",
       "      <td>334.31</td>\n",
       "      <td>76900649</td>\n",
       "    </tr>\n",
       "    <tr>\n",
       "      <th>2020-08-07 00:00:00-04:00</th>\n",
       "      <td>119.66</td>\n",
       "      <td>119.73</td>\n",
       "      <td>119.3950</td>\n",
       "      <td>119.445</td>\n",
       "      <td>8830420.0</td>\n",
       "      <td>333.2800</td>\n",
       "      <td>334.88</td>\n",
       "      <td>332.30</td>\n",
       "      <td>334.55</td>\n",
       "      <td>98710236</td>\n",
       "    </tr>\n",
       "  </tbody>\n",
       "</table>\n",
       "</div>"
      ],
      "text/plain": [
       "                              AGG                                         \\\n",
       "                             open    high       low    close      volume   \n",
       "time                                                                       \n",
       "2020-08-03 00:00:00-04:00  119.37  119.40  119.1903  119.400  17837420.0   \n",
       "2020-08-04 00:00:00-04:00  119.42  119.63  119.4200  119.630  21512268.0   \n",
       "2020-08-05 00:00:00-04:00  119.39  119.49  119.3100  119.400  34175883.0   \n",
       "2020-08-06 00:00:00-04:00  119.62  119.73  119.5300  119.580   9009216.0   \n",
       "2020-08-07 00:00:00-04:00  119.66  119.73  119.3950  119.445   8830420.0   \n",
       "\n",
       "                                SPY                                    \n",
       "                               open    high     low   close    volume  \n",
       "time                                                                   \n",
       "2020-08-03 00:00:00-04:00  328.3200  329.62  327.73  328.76  71741125  \n",
       "2020-08-04 00:00:00-04:00  327.8600  330.06  327.86  330.03  73684427  \n",
       "2020-08-05 00:00:00-04:00  331.4700  332.39  331.18  332.06  72846458  \n",
       "2020-08-06 00:00:00-04:00  331.4799  334.46  331.13  334.31  76900649  \n",
       "2020-08-07 00:00:00-04:00  333.2800  334.88  332.30  334.55  98710236  "
      ]
     },
     "metadata": {},
     "output_type": "display_data"
    }
   ],
   "source": [
    "# Use the Alpaca get_barset function to make the API call to get the 3 years worth of pricing data\n",
    "# The tickers and timeframe parameters should have been set in Part 1 of this activity \n",
    "# The start and end dates should be updated with the information set above\n",
    "# Remember to add the df property to the end of the call so the response is returned as a DataFrame\n",
    "prices_df = alpaca.get_barset(\n",
    "    tickers,\n",
    "    timeframe,\n",
    "    start=start_date,\n",
    "    end=end_date,\n",
    "    limit=limit_rows\n",
    ").df\n",
    "\n",
    "# Display both the first and last five rows of the DataFrame\n",
    "display(prices_df.head()) \n",
    "display(prices_df.tail())"
   ]
  },
  {
   "cell_type": "markdown",
   "metadata": {},
   "source": [
    "#### Step 2: Run a Monte Carlo simulation of 500 samples and 30 years for the 60/40 portfolio, and then plot the results."
   ]
  },
  {
   "cell_type": "code",
   "execution_count": 31,
   "metadata": {},
   "outputs": [
    {
     "data": {
      "text/html": [
       "<div>\n",
       "<style scoped>\n",
       "    .dataframe tbody tr th:only-of-type {\n",
       "        vertical-align: middle;\n",
       "    }\n",
       "\n",
       "    .dataframe tbody tr th {\n",
       "        vertical-align: top;\n",
       "    }\n",
       "\n",
       "    .dataframe thead tr th {\n",
       "        text-align: left;\n",
       "    }\n",
       "\n",
       "    .dataframe thead tr:last-of-type th {\n",
       "        text-align: right;\n",
       "    }\n",
       "</style>\n",
       "<table border=\"1\" class=\"dataframe\">\n",
       "  <thead>\n",
       "    <tr>\n",
       "      <th></th>\n",
       "      <th colspan=\"6\" halign=\"left\">AGG</th>\n",
       "      <th colspan=\"6\" halign=\"left\">SPY</th>\n",
       "    </tr>\n",
       "    <tr>\n",
       "      <th></th>\n",
       "      <th>open</th>\n",
       "      <th>high</th>\n",
       "      <th>low</th>\n",
       "      <th>close</th>\n",
       "      <th>volume</th>\n",
       "      <th>daily_return</th>\n",
       "      <th>open</th>\n",
       "      <th>high</th>\n",
       "      <th>low</th>\n",
       "      <th>close</th>\n",
       "      <th>volume</th>\n",
       "      <th>daily_return</th>\n",
       "    </tr>\n",
       "    <tr>\n",
       "      <th>time</th>\n",
       "      <th></th>\n",
       "      <th></th>\n",
       "      <th></th>\n",
       "      <th></th>\n",
       "      <th></th>\n",
       "      <th></th>\n",
       "      <th></th>\n",
       "      <th></th>\n",
       "      <th></th>\n",
       "      <th></th>\n",
       "      <th></th>\n",
       "      <th></th>\n",
       "    </tr>\n",
       "  </thead>\n",
       "  <tbody>\n",
       "    <tr>\n",
       "      <th>2018-08-17 00:00:00-04:00</th>\n",
       "      <td>106.43</td>\n",
       "      <td>106.545</td>\n",
       "      <td>106.38</td>\n",
       "      <td>106.460</td>\n",
       "      <td>1915186.0</td>\n",
       "      <td>NaN</td>\n",
       "      <td>283.83</td>\n",
       "      <td>285.5601</td>\n",
       "      <td>283.370</td>\n",
       "      <td>285.02</td>\n",
       "      <td>43630918</td>\n",
       "      <td>NaN</td>\n",
       "    </tr>\n",
       "    <tr>\n",
       "      <th>2018-08-20 00:00:00-04:00</th>\n",
       "      <td>106.59</td>\n",
       "      <td>106.680</td>\n",
       "      <td>106.53</td>\n",
       "      <td>106.650</td>\n",
       "      <td>2105513.0</td>\n",
       "      <td>0.001785</td>\n",
       "      <td>285.57</td>\n",
       "      <td>285.9700</td>\n",
       "      <td>285.060</td>\n",
       "      <td>285.71</td>\n",
       "      <td>27878971</td>\n",
       "      <td>0.002421</td>\n",
       "    </tr>\n",
       "    <tr>\n",
       "      <th>2018-08-21 00:00:00-04:00</th>\n",
       "      <td>106.58</td>\n",
       "      <td>106.620</td>\n",
       "      <td>106.51</td>\n",
       "      <td>106.575</td>\n",
       "      <td>2596721.0</td>\n",
       "      <td>-0.000703</td>\n",
       "      <td>286.24</td>\n",
       "      <td>287.3100</td>\n",
       "      <td>286.105</td>\n",
       "      <td>286.25</td>\n",
       "      <td>47719238</td>\n",
       "      <td>0.001890</td>\n",
       "    </tr>\n",
       "    <tr>\n",
       "      <th>2018-08-22 00:00:00-04:00</th>\n",
       "      <td>106.66</td>\n",
       "      <td>106.710</td>\n",
       "      <td>106.57</td>\n",
       "      <td>106.660</td>\n",
       "      <td>1725557.0</td>\n",
       "      <td>0.000798</td>\n",
       "      <td>285.88</td>\n",
       "      <td>286.7600</td>\n",
       "      <td>285.575</td>\n",
       "      <td>286.20</td>\n",
       "      <td>32602524</td>\n",
       "      <td>-0.000175</td>\n",
       "    </tr>\n",
       "    <tr>\n",
       "      <th>2018-08-23 00:00:00-04:00</th>\n",
       "      <td>106.67</td>\n",
       "      <td>106.705</td>\n",
       "      <td>106.62</td>\n",
       "      <td>106.620</td>\n",
       "      <td>1346950.0</td>\n",
       "      <td>-0.000375</td>\n",
       "      <td>285.97</td>\n",
       "      <td>286.9400</td>\n",
       "      <td>285.430</td>\n",
       "      <td>285.77</td>\n",
       "      <td>35732521</td>\n",
       "      <td>-0.001502</td>\n",
       "    </tr>\n",
       "  </tbody>\n",
       "</table>\n",
       "</div>"
      ],
      "text/plain": [
       "                              AGG                                       \\\n",
       "                             open     high     low    close     volume   \n",
       "time                                                                     \n",
       "2018-08-17 00:00:00-04:00  106.43  106.545  106.38  106.460  1915186.0   \n",
       "2018-08-20 00:00:00-04:00  106.59  106.680  106.53  106.650  2105513.0   \n",
       "2018-08-21 00:00:00-04:00  106.58  106.620  106.51  106.575  2596721.0   \n",
       "2018-08-22 00:00:00-04:00  106.66  106.710  106.57  106.660  1725557.0   \n",
       "2018-08-23 00:00:00-04:00  106.67  106.705  106.62  106.620  1346950.0   \n",
       "\n",
       "                                           SPY                             \\\n",
       "                          daily_return    open      high      low   close   \n",
       "time                                                                        \n",
       "2018-08-17 00:00:00-04:00          NaN  283.83  285.5601  283.370  285.02   \n",
       "2018-08-20 00:00:00-04:00     0.001785  285.57  285.9700  285.060  285.71   \n",
       "2018-08-21 00:00:00-04:00    -0.000703  286.24  287.3100  286.105  286.25   \n",
       "2018-08-22 00:00:00-04:00     0.000798  285.88  286.7600  285.575  286.20   \n",
       "2018-08-23 00:00:00-04:00    -0.000375  285.97  286.9400  285.430  285.77   \n",
       "\n",
       "                                                  \n",
       "                             volume daily_return  \n",
       "time                                              \n",
       "2018-08-17 00:00:00-04:00  43630918          NaN  \n",
       "2018-08-20 00:00:00-04:00  27878971     0.002421  \n",
       "2018-08-21 00:00:00-04:00  47719238     0.001890  \n",
       "2018-08-22 00:00:00-04:00  32602524    -0.000175  \n",
       "2018-08-23 00:00:00-04:00  35732521    -0.001502  "
      ]
     },
     "execution_count": 31,
     "metadata": {},
     "output_type": "execute_result"
    }
   ],
   "source": [
    "# Configure the Monte Carlo simulation to forecast 30 years cumulative returns\n",
    "# The weights should be split 40% to AGG and 60% to SPY.\n",
    "# Run 500 samples.\n",
    "\n",
    "MC_thirtyyears = MCSimulation(\n",
    "    portfolio_data = prices_df,\n",
    "    weights = [.40,.60],\n",
    "    num_simulation = 500,\n",
    "    num_trading_days = 252*30\n",
    ")\n",
    "\n",
    "# Review the simulation input data\n",
    "MC_thirtyyears.portfolio_data.head()"
   ]
  },
  {
   "cell_type": "code",
   "execution_count": 32,
   "metadata": {
    "collapsed": true,
    "jupyter": {
     "outputs_hidden": true
    },
    "tags": []
   },
   "outputs": [
    {
     "name": "stdout",
     "output_type": "stream",
     "text": [
      "Running Monte Carlo simulation number 0.\n",
      "Running Monte Carlo simulation number 10.\n",
      "Running Monte Carlo simulation number 20.\n",
      "Running Monte Carlo simulation number 30.\n",
      "Running Monte Carlo simulation number 40.\n",
      "Running Monte Carlo simulation number 50.\n",
      "Running Monte Carlo simulation number 60.\n",
      "Running Monte Carlo simulation number 70.\n",
      "Running Monte Carlo simulation number 80.\n",
      "Running Monte Carlo simulation number 90.\n",
      "Running Monte Carlo simulation number 100.\n",
      "Running Monte Carlo simulation number 110.\n",
      "Running Monte Carlo simulation number 120.\n",
      "Running Monte Carlo simulation number 130.\n",
      "Running Monte Carlo simulation number 140.\n",
      "Running Monte Carlo simulation number 150.\n",
      "Running Monte Carlo simulation number 160.\n",
      "Running Monte Carlo simulation number 170.\n",
      "Running Monte Carlo simulation number 180.\n",
      "Running Monte Carlo simulation number 190.\n",
      "Running Monte Carlo simulation number 200.\n",
      "Running Monte Carlo simulation number 210.\n",
      "Running Monte Carlo simulation number 220.\n",
      "Running Monte Carlo simulation number 230.\n",
      "Running Monte Carlo simulation number 240.\n",
      "Running Monte Carlo simulation number 250.\n",
      "Running Monte Carlo simulation number 260.\n",
      "Running Monte Carlo simulation number 270.\n",
      "Running Monte Carlo simulation number 280.\n",
      "Running Monte Carlo simulation number 290.\n",
      "Running Monte Carlo simulation number 300.\n",
      "Running Monte Carlo simulation number 310.\n",
      "Running Monte Carlo simulation number 320.\n",
      "Running Monte Carlo simulation number 330.\n",
      "Running Monte Carlo simulation number 340.\n",
      "Running Monte Carlo simulation number 350.\n",
      "Running Monte Carlo simulation number 360.\n",
      "Running Monte Carlo simulation number 370.\n",
      "Running Monte Carlo simulation number 380.\n",
      "Running Monte Carlo simulation number 390.\n",
      "Running Monte Carlo simulation number 400.\n",
      "Running Monte Carlo simulation number 410.\n",
      "Running Monte Carlo simulation number 420.\n",
      "Running Monte Carlo simulation number 430.\n",
      "Running Monte Carlo simulation number 440.\n",
      "Running Monte Carlo simulation number 450.\n",
      "Running Monte Carlo simulation number 460.\n",
      "Running Monte Carlo simulation number 470.\n",
      "Running Monte Carlo simulation number 480.\n",
      "Running Monte Carlo simulation number 490.\n"
     ]
    },
    {
     "data": {
      "text/html": [
       "<div>\n",
       "<style scoped>\n",
       "    .dataframe tbody tr th:only-of-type {\n",
       "        vertical-align: middle;\n",
       "    }\n",
       "\n",
       "    .dataframe tbody tr th {\n",
       "        vertical-align: top;\n",
       "    }\n",
       "\n",
       "    .dataframe thead th {\n",
       "        text-align: right;\n",
       "    }\n",
       "</style>\n",
       "<table border=\"1\" class=\"dataframe\">\n",
       "  <thead>\n",
       "    <tr style=\"text-align: right;\">\n",
       "      <th></th>\n",
       "      <th>0</th>\n",
       "      <th>1</th>\n",
       "      <th>2</th>\n",
       "      <th>3</th>\n",
       "      <th>4</th>\n",
       "      <th>5</th>\n",
       "      <th>6</th>\n",
       "      <th>7</th>\n",
       "      <th>8</th>\n",
       "      <th>9</th>\n",
       "      <th>...</th>\n",
       "      <th>490</th>\n",
       "      <th>491</th>\n",
       "      <th>492</th>\n",
       "      <th>493</th>\n",
       "      <th>494</th>\n",
       "      <th>495</th>\n",
       "      <th>496</th>\n",
       "      <th>497</th>\n",
       "      <th>498</th>\n",
       "      <th>499</th>\n",
       "    </tr>\n",
       "  </thead>\n",
       "  <tbody>\n",
       "    <tr>\n",
       "      <th>0</th>\n",
       "      <td>1.000000</td>\n",
       "      <td>1.000000</td>\n",
       "      <td>1.000000</td>\n",
       "      <td>1.000000</td>\n",
       "      <td>1.000000</td>\n",
       "      <td>1.000000</td>\n",
       "      <td>1.000000</td>\n",
       "      <td>1.000000</td>\n",
       "      <td>1.000000</td>\n",
       "      <td>1.000000</td>\n",
       "      <td>...</td>\n",
       "      <td>1.000000</td>\n",
       "      <td>1.000000</td>\n",
       "      <td>1.000000</td>\n",
       "      <td>1.000000</td>\n",
       "      <td>1.000000</td>\n",
       "      <td>1.000000</td>\n",
       "      <td>1.000000</td>\n",
       "      <td>1.000000</td>\n",
       "      <td>1.000000</td>\n",
       "      <td>1.000000</td>\n",
       "    </tr>\n",
       "    <tr>\n",
       "      <th>1</th>\n",
       "      <td>1.006999</td>\n",
       "      <td>0.999960</td>\n",
       "      <td>1.005608</td>\n",
       "      <td>0.995065</td>\n",
       "      <td>0.989846</td>\n",
       "      <td>1.005180</td>\n",
       "      <td>1.013381</td>\n",
       "      <td>0.990552</td>\n",
       "      <td>1.005825</td>\n",
       "      <td>1.007920</td>\n",
       "      <td>...</td>\n",
       "      <td>0.997964</td>\n",
       "      <td>0.978935</td>\n",
       "      <td>1.016166</td>\n",
       "      <td>1.006511</td>\n",
       "      <td>0.987505</td>\n",
       "      <td>1.013357</td>\n",
       "      <td>1.015051</td>\n",
       "      <td>1.000752</td>\n",
       "      <td>1.018567</td>\n",
       "      <td>0.978999</td>\n",
       "    </tr>\n",
       "    <tr>\n",
       "      <th>2</th>\n",
       "      <td>1.027554</td>\n",
       "      <td>0.985335</td>\n",
       "      <td>1.000251</td>\n",
       "      <td>0.989889</td>\n",
       "      <td>0.981476</td>\n",
       "      <td>1.021175</td>\n",
       "      <td>1.029865</td>\n",
       "      <td>0.995783</td>\n",
       "      <td>1.008510</td>\n",
       "      <td>1.019740</td>\n",
       "      <td>...</td>\n",
       "      <td>0.994207</td>\n",
       "      <td>1.005003</td>\n",
       "      <td>1.018147</td>\n",
       "      <td>1.007870</td>\n",
       "      <td>0.990132</td>\n",
       "      <td>1.003125</td>\n",
       "      <td>1.020164</td>\n",
       "      <td>1.002161</td>\n",
       "      <td>1.030708</td>\n",
       "      <td>0.987393</td>\n",
       "    </tr>\n",
       "    <tr>\n",
       "      <th>3</th>\n",
       "      <td>1.022677</td>\n",
       "      <td>0.984407</td>\n",
       "      <td>0.991983</td>\n",
       "      <td>0.999593</td>\n",
       "      <td>0.987690</td>\n",
       "      <td>1.026054</td>\n",
       "      <td>1.029958</td>\n",
       "      <td>0.975441</td>\n",
       "      <td>1.005989</td>\n",
       "      <td>1.013011</td>\n",
       "      <td>...</td>\n",
       "      <td>0.967640</td>\n",
       "      <td>1.014937</td>\n",
       "      <td>1.011161</td>\n",
       "      <td>1.008443</td>\n",
       "      <td>0.987935</td>\n",
       "      <td>1.009686</td>\n",
       "      <td>1.005224</td>\n",
       "      <td>0.992433</td>\n",
       "      <td>1.021598</td>\n",
       "      <td>0.971814</td>\n",
       "    </tr>\n",
       "    <tr>\n",
       "      <th>4</th>\n",
       "      <td>1.024343</td>\n",
       "      <td>0.979241</td>\n",
       "      <td>1.009343</td>\n",
       "      <td>0.995080</td>\n",
       "      <td>0.981708</td>\n",
       "      <td>1.025755</td>\n",
       "      <td>1.040252</td>\n",
       "      <td>0.972861</td>\n",
       "      <td>0.993956</td>\n",
       "      <td>1.014076</td>\n",
       "      <td>...</td>\n",
       "      <td>0.969360</td>\n",
       "      <td>1.013329</td>\n",
       "      <td>1.010247</td>\n",
       "      <td>1.022530</td>\n",
       "      <td>0.978786</td>\n",
       "      <td>1.018241</td>\n",
       "      <td>0.998394</td>\n",
       "      <td>0.981319</td>\n",
       "      <td>1.031108</td>\n",
       "      <td>0.967151</td>\n",
       "    </tr>\n",
       "    <tr>\n",
       "      <th>...</th>\n",
       "      <td>...</td>\n",
       "      <td>...</td>\n",
       "      <td>...</td>\n",
       "      <td>...</td>\n",
       "      <td>...</td>\n",
       "      <td>...</td>\n",
       "      <td>...</td>\n",
       "      <td>...</td>\n",
       "      <td>...</td>\n",
       "      <td>...</td>\n",
       "      <td>...</td>\n",
       "      <td>...</td>\n",
       "      <td>...</td>\n",
       "      <td>...</td>\n",
       "      <td>...</td>\n",
       "      <td>...</td>\n",
       "      <td>...</td>\n",
       "      <td>...</td>\n",
       "      <td>...</td>\n",
       "      <td>...</td>\n",
       "      <td>...</td>\n",
       "    </tr>\n",
       "    <tr>\n",
       "      <th>7556</th>\n",
       "      <td>29.975402</td>\n",
       "      <td>24.396985</td>\n",
       "      <td>7.447667</td>\n",
       "      <td>4.161526</td>\n",
       "      <td>19.631968</td>\n",
       "      <td>111.110404</td>\n",
       "      <td>58.158379</td>\n",
       "      <td>24.333752</td>\n",
       "      <td>8.563535</td>\n",
       "      <td>6.601654</td>\n",
       "      <td>...</td>\n",
       "      <td>16.963363</td>\n",
       "      <td>8.336320</td>\n",
       "      <td>31.207791</td>\n",
       "      <td>50.012104</td>\n",
       "      <td>11.896260</td>\n",
       "      <td>14.477691</td>\n",
       "      <td>11.879715</td>\n",
       "      <td>12.448785</td>\n",
       "      <td>6.192453</td>\n",
       "      <td>14.799024</td>\n",
       "    </tr>\n",
       "    <tr>\n",
       "      <th>7557</th>\n",
       "      <td>29.745328</td>\n",
       "      <td>24.546773</td>\n",
       "      <td>7.588888</td>\n",
       "      <td>4.133212</td>\n",
       "      <td>19.682199</td>\n",
       "      <td>112.247193</td>\n",
       "      <td>57.604586</td>\n",
       "      <td>24.671240</td>\n",
       "      <td>8.678265</td>\n",
       "      <td>6.647656</td>\n",
       "      <td>...</td>\n",
       "      <td>17.124966</td>\n",
       "      <td>8.280937</td>\n",
       "      <td>31.594257</td>\n",
       "      <td>50.394315</td>\n",
       "      <td>11.935578</td>\n",
       "      <td>14.574727</td>\n",
       "      <td>11.913024</td>\n",
       "      <td>12.512481</td>\n",
       "      <td>6.229033</td>\n",
       "      <td>14.899716</td>\n",
       "    </tr>\n",
       "    <tr>\n",
       "      <th>7558</th>\n",
       "      <td>30.041416</td>\n",
       "      <td>24.730449</td>\n",
       "      <td>7.631269</td>\n",
       "      <td>4.183648</td>\n",
       "      <td>19.739296</td>\n",
       "      <td>110.411256</td>\n",
       "      <td>57.193647</td>\n",
       "      <td>24.284170</td>\n",
       "      <td>8.573392</td>\n",
       "      <td>6.646227</td>\n",
       "      <td>...</td>\n",
       "      <td>17.296996</td>\n",
       "      <td>8.242171</td>\n",
       "      <td>31.510095</td>\n",
       "      <td>49.865213</td>\n",
       "      <td>11.946991</td>\n",
       "      <td>14.761477</td>\n",
       "      <td>12.032942</td>\n",
       "      <td>12.319830</td>\n",
       "      <td>6.347531</td>\n",
       "      <td>14.812662</td>\n",
       "    </tr>\n",
       "    <tr>\n",
       "      <th>7559</th>\n",
       "      <td>29.828071</td>\n",
       "      <td>24.460109</td>\n",
       "      <td>7.552154</td>\n",
       "      <td>4.162546</td>\n",
       "      <td>20.065924</td>\n",
       "      <td>111.430170</td>\n",
       "      <td>56.412923</td>\n",
       "      <td>24.587638</td>\n",
       "      <td>8.593134</td>\n",
       "      <td>6.624687</td>\n",
       "      <td>...</td>\n",
       "      <td>17.363884</td>\n",
       "      <td>8.301238</td>\n",
       "      <td>31.086406</td>\n",
       "      <td>49.043343</td>\n",
       "      <td>12.002459</td>\n",
       "      <td>14.878088</td>\n",
       "      <td>11.904595</td>\n",
       "      <td>12.470794</td>\n",
       "      <td>6.400496</td>\n",
       "      <td>14.707817</td>\n",
       "    </tr>\n",
       "    <tr>\n",
       "      <th>7560</th>\n",
       "      <td>29.902543</td>\n",
       "      <td>24.335879</td>\n",
       "      <td>7.548221</td>\n",
       "      <td>4.153259</td>\n",
       "      <td>20.083535</td>\n",
       "      <td>111.233298</td>\n",
       "      <td>57.105728</td>\n",
       "      <td>24.478236</td>\n",
       "      <td>8.478082</td>\n",
       "      <td>6.538292</td>\n",
       "      <td>...</td>\n",
       "      <td>17.322944</td>\n",
       "      <td>8.284888</td>\n",
       "      <td>31.207653</td>\n",
       "      <td>49.234860</td>\n",
       "      <td>11.762091</td>\n",
       "      <td>14.914113</td>\n",
       "      <td>12.101115</td>\n",
       "      <td>12.559916</td>\n",
       "      <td>6.337694</td>\n",
       "      <td>14.731766</td>\n",
       "    </tr>\n",
       "  </tbody>\n",
       "</table>\n",
       "<p>7561 rows × 500 columns</p>\n",
       "</div>"
      ],
      "text/plain": [
       "            0          1         2         3          4           5    \\\n",
       "0      1.000000   1.000000  1.000000  1.000000   1.000000    1.000000   \n",
       "1      1.006999   0.999960  1.005608  0.995065   0.989846    1.005180   \n",
       "2      1.027554   0.985335  1.000251  0.989889   0.981476    1.021175   \n",
       "3      1.022677   0.984407  0.991983  0.999593   0.987690    1.026054   \n",
       "4      1.024343   0.979241  1.009343  0.995080   0.981708    1.025755   \n",
       "...         ...        ...       ...       ...        ...         ...   \n",
       "7556  29.975402  24.396985  7.447667  4.161526  19.631968  111.110404   \n",
       "7557  29.745328  24.546773  7.588888  4.133212  19.682199  112.247193   \n",
       "7558  30.041416  24.730449  7.631269  4.183648  19.739296  110.411256   \n",
       "7559  29.828071  24.460109  7.552154  4.162546  20.065924  111.430170   \n",
       "7560  29.902543  24.335879  7.548221  4.153259  20.083535  111.233298   \n",
       "\n",
       "            6          7         8         9    ...        490       491  \\\n",
       "0      1.000000   1.000000  1.000000  1.000000  ...   1.000000  1.000000   \n",
       "1      1.013381   0.990552  1.005825  1.007920  ...   0.997964  0.978935   \n",
       "2      1.029865   0.995783  1.008510  1.019740  ...   0.994207  1.005003   \n",
       "3      1.029958   0.975441  1.005989  1.013011  ...   0.967640  1.014937   \n",
       "4      1.040252   0.972861  0.993956  1.014076  ...   0.969360  1.013329   \n",
       "...         ...        ...       ...       ...  ...        ...       ...   \n",
       "7556  58.158379  24.333752  8.563535  6.601654  ...  16.963363  8.336320   \n",
       "7557  57.604586  24.671240  8.678265  6.647656  ...  17.124966  8.280937   \n",
       "7558  57.193647  24.284170  8.573392  6.646227  ...  17.296996  8.242171   \n",
       "7559  56.412923  24.587638  8.593134  6.624687  ...  17.363884  8.301238   \n",
       "7560  57.105728  24.478236  8.478082  6.538292  ...  17.322944  8.284888   \n",
       "\n",
       "            492        493        494        495        496        497  \\\n",
       "0      1.000000   1.000000   1.000000   1.000000   1.000000   1.000000   \n",
       "1      1.016166   1.006511   0.987505   1.013357   1.015051   1.000752   \n",
       "2      1.018147   1.007870   0.990132   1.003125   1.020164   1.002161   \n",
       "3      1.011161   1.008443   0.987935   1.009686   1.005224   0.992433   \n",
       "4      1.010247   1.022530   0.978786   1.018241   0.998394   0.981319   \n",
       "...         ...        ...        ...        ...        ...        ...   \n",
       "7556  31.207791  50.012104  11.896260  14.477691  11.879715  12.448785   \n",
       "7557  31.594257  50.394315  11.935578  14.574727  11.913024  12.512481   \n",
       "7558  31.510095  49.865213  11.946991  14.761477  12.032942  12.319830   \n",
       "7559  31.086406  49.043343  12.002459  14.878088  11.904595  12.470794   \n",
       "7560  31.207653  49.234860  11.762091  14.914113  12.101115  12.559916   \n",
       "\n",
       "           498        499  \n",
       "0     1.000000   1.000000  \n",
       "1     1.018567   0.978999  \n",
       "2     1.030708   0.987393  \n",
       "3     1.021598   0.971814  \n",
       "4     1.031108   0.967151  \n",
       "...        ...        ...  \n",
       "7556  6.192453  14.799024  \n",
       "7557  6.229033  14.899716  \n",
       "7558  6.347531  14.812662  \n",
       "7559  6.400496  14.707817  \n",
       "7560  6.337694  14.731766  \n",
       "\n",
       "[7561 rows x 500 columns]"
      ]
     },
     "execution_count": 32,
     "metadata": {},
     "output_type": "execute_result"
    }
   ],
   "source": [
    "# Run the Monte Carlo simulation to forecast 30 years cumulative returns\n",
    "MC_thirtyyears.calc_cumulative_return()"
   ]
  },
  {
   "cell_type": "code",
   "execution_count": 33,
   "metadata": {},
   "outputs": [
    {
     "data": {
      "image/png": "[encoded data removed]",
      "text/plain": [
       "<Figure size 432x288 with 1 Axes>"
      ]
     },
     "metadata": {
      "needs_background": "light"
     },
     "output_type": "display_data"
    }
   ],
   "source": [
    "# Visualize the 30-year Monte Carlo simulation by creating an\n",
    "# overlay line plot\n",
    "MC_sim_line_plot = MC_thirtyyears.plot_simulation()"
   ]
  },
  {
   "cell_type": "markdown",
   "metadata": {},
   "source": [
    "#### Step 3: Plot the probability distribution of the Monte Carlo simulation."
   ]
  },
  {
   "cell_type": "code",
   "execution_count": 34,
   "metadata": {},
   "outputs": [
    {
     "data": {
      "image/png": "[encoded data removed]",
      "text/plain": [
       "<Figure size 432x288 with 1 Axes>"
      ]
     },
     "metadata": {
      "needs_background": "light"
     },
     "output_type": "display_data"
    }
   ],
   "source": [
    "# Visualize the probability distribution of the 30-year Monte Carlo simulation \n",
    "# by plotting a histogram\n",
    "\n",
    "MC_sim_dist_plot = MC_thirtyyears.plot_distribution()"
   ]
  },
  {
   "cell_type": "markdown",
   "metadata": {},
   "source": [
    "#### Step 4: Generate the summary statistics for the Monte Carlo simulation."
   ]
  },
  {
   "cell_type": "code",
   "execution_count": 35,
   "metadata": {},
   "outputs": [
    {
     "name": "stdout",
     "output_type": "stream",
     "text": [
      "count           500.000000\n",
      "mean             16.882751\n",
      "std              15.904794\n",
      "min               0.715172\n",
      "25%               6.438324\n",
      "50%              11.646664\n",
      "75%              22.169085\n",
      "max             114.541872\n",
      "95% CI Lower      2.167268\n",
      "95% CI Upper     60.253656\n",
      "Name: 7560, dtype: float64\n"
     ]
    }
   ],
   "source": [
    "# Generate summary statistics from the 30-year Monte Carlo simulation results\n",
    "# Save the results as a variable\n",
    "MC_summary_statistics = MC_thirtyyears.summarize_cumulative_return()\n",
    "\n",
    "# Review the 30-year Monte Carlo summary statistics\n",
    "print(MC_summary_statistics)"
   ]
  },
  {
   "cell_type": "markdown",
   "metadata": {},
   "source": [
    "### Analyze the Retirement Portfolio Forecasts\n",
    "\n",
    "Using the current value of only the stock and bond portion of the member's portfolio and the summary statistics that you generated from the Monte Carlo simulation, answer the following question in your Jupyter notebook:\n",
    "\n",
    "-  What are the lower and upper bounds for the expected value of the portfolio with a 95% confidence interval?\n"
   ]
  },
  {
   "cell_type": "code",
   "execution_count": 36,
   "metadata": {},
   "outputs": [
    {
     "data": {
      "text/plain": [
       "60689.5"
      ]
     },
     "execution_count": 36,
     "metadata": {},
     "output_type": "execute_result"
    }
   ],
   "source": [
    "# Print the current balance of the stock and bond portion of the members portfolio\n",
    "total_stocks_bonds\n"
   ]
  },
  {
   "cell_type": "code",
   "execution_count": 37,
   "metadata": {},
   "outputs": [
    {
     "name": "stdout",
     "output_type": "stream",
     "text": [
      "There is a 95% chance that an initial investment of 60689.5 in the portfolio over the next 30 years will end within in the range of $ 131530.42 and $ 3656764.27.\n"
     ]
    }
   ],
   "source": [
    "# Use the lower and upper `95%` confidence intervals to calculate the range of the possible outcomes for the current stock/bond portfolio\n",
    "ci_lower_thirty_cumulative_return = MC_summary_statistics[8] * total_stocks_bonds\n",
    "ci_upper_thirty_cumulative_return = MC_summary_statistics[9] * total_stocks_bonds\n",
    "\n",
    "# Print the result of your calculations\n",
    "print(f\"There is a 95% chance that an initial investment of {total_stocks_bonds} in the portfolio\"\n",
    "  f\" over the next 30 years will end within in the range of\"\n",
    "  f\" ${ci_lower_thirty_cumulative_return: .2f} and ${ci_upper_thirty_cumulative_return: .2f}.\")\n"
   ]
  },
  {
   "cell_type": "markdown",
   "metadata": {},
   "source": [
    "### Forecast Cumulative Returns in 10 Years\n",
    "\n",
    "The CTO of the credit union is impressed with your work on these planning tools but wonders if 30 years is a long time to wait until retirement. So, your next task is to adjust the retirement portfolio and run a new Monte Carlo simulation to find out if the changes will allow members to retire earlier.\n",
    "\n",
    "For this new Monte Carlo simulation, do the following: \n",
    "\n",
    "- Forecast the cumulative returns for 10 years from now. Because of the shortened investment horizon (30 years to 10 years), the portfolio needs to invest more heavily in the riskier asset&mdash;that is, stock&mdash;to help accumulate wealth for retirement. \n",
    "\n",
    "- Adjust the weights of the retirement portfolio so that the composition for the Monte Carlo simulation consists of 20% bonds and 80% stocks. \n",
    "\n",
    "- Run the simulation over 500 samples, and use the same data that the API call to Alpaca generated.\n",
    "\n",
    "- Based on the new Monte Carlo simulation, answer the following questions in your Jupyter notebook:\n",
    "\n",
    "    - Using the current value of only the stock and bond portion of the member's portfolio and the summary statistics that you generated from the new Monte Carlo simulation, what are the lower and upper bounds for the expected value of the portfolio (with the new weights) with a 95% confidence interval?\n",
    "\n",
    "    - Will weighting the portfolio more heavily toward stocks allow the credit union members to retire after only 10 years?\n"
   ]
  },
  {
   "cell_type": "code",
   "execution_count": 46,
   "metadata": {},
   "outputs": [
    {
     "data": {
      "text/html": [
       "<div>\n",
       "<style scoped>\n",
       "    .dataframe tbody tr th:only-of-type {\n",
       "        vertical-align: middle;\n",
       "    }\n",
       "\n",
       "    .dataframe tbody tr th {\n",
       "        vertical-align: top;\n",
       "    }\n",
       "\n",
       "    .dataframe thead tr th {\n",
       "        text-align: left;\n",
       "    }\n",
       "\n",
       "    .dataframe thead tr:last-of-type th {\n",
       "        text-align: right;\n",
       "    }\n",
       "</style>\n",
       "<table border=\"1\" class=\"dataframe\">\n",
       "  <thead>\n",
       "    <tr>\n",
       "      <th></th>\n",
       "      <th colspan=\"6\" halign=\"left\">AGG</th>\n",
       "      <th colspan=\"6\" halign=\"left\">SPY</th>\n",
       "    </tr>\n",
       "    <tr>\n",
       "      <th></th>\n",
       "      <th>open</th>\n",
       "      <th>high</th>\n",
       "      <th>low</th>\n",
       "      <th>close</th>\n",
       "      <th>volume</th>\n",
       "      <th>daily_return</th>\n",
       "      <th>open</th>\n",
       "      <th>high</th>\n",
       "      <th>low</th>\n",
       "      <th>close</th>\n",
       "      <th>volume</th>\n",
       "      <th>daily_return</th>\n",
       "    </tr>\n",
       "    <tr>\n",
       "      <th>time</th>\n",
       "      <th></th>\n",
       "      <th></th>\n",
       "      <th></th>\n",
       "      <th></th>\n",
       "      <th></th>\n",
       "      <th></th>\n",
       "      <th></th>\n",
       "      <th></th>\n",
       "      <th></th>\n",
       "      <th></th>\n",
       "      <th></th>\n",
       "      <th></th>\n",
       "    </tr>\n",
       "  </thead>\n",
       "  <tbody>\n",
       "    <tr>\n",
       "      <th>2018-08-17 00:00:00-04:00</th>\n",
       "      <td>106.43</td>\n",
       "      <td>106.545</td>\n",
       "      <td>106.38</td>\n",
       "      <td>106.460</td>\n",
       "      <td>1915186.0</td>\n",
       "      <td>NaN</td>\n",
       "      <td>283.83</td>\n",
       "      <td>285.5601</td>\n",
       "      <td>283.370</td>\n",
       "      <td>285.02</td>\n",
       "      <td>43630918</td>\n",
       "      <td>NaN</td>\n",
       "    </tr>\n",
       "    <tr>\n",
       "      <th>2018-08-20 00:00:00-04:00</th>\n",
       "      <td>106.59</td>\n",
       "      <td>106.680</td>\n",
       "      <td>106.53</td>\n",
       "      <td>106.650</td>\n",
       "      <td>2105513.0</td>\n",
       "      <td>0.001785</td>\n",
       "      <td>285.57</td>\n",
       "      <td>285.9700</td>\n",
       "      <td>285.060</td>\n",
       "      <td>285.71</td>\n",
       "      <td>27878971</td>\n",
       "      <td>0.002421</td>\n",
       "    </tr>\n",
       "    <tr>\n",
       "      <th>2018-08-21 00:00:00-04:00</th>\n",
       "      <td>106.58</td>\n",
       "      <td>106.620</td>\n",
       "      <td>106.51</td>\n",
       "      <td>106.575</td>\n",
       "      <td>2596721.0</td>\n",
       "      <td>-0.000703</td>\n",
       "      <td>286.24</td>\n",
       "      <td>287.3100</td>\n",
       "      <td>286.105</td>\n",
       "      <td>286.25</td>\n",
       "      <td>47719238</td>\n",
       "      <td>0.001890</td>\n",
       "    </tr>\n",
       "    <tr>\n",
       "      <th>2018-08-22 00:00:00-04:00</th>\n",
       "      <td>106.66</td>\n",
       "      <td>106.710</td>\n",
       "      <td>106.57</td>\n",
       "      <td>106.660</td>\n",
       "      <td>1725557.0</td>\n",
       "      <td>0.000798</td>\n",
       "      <td>285.88</td>\n",
       "      <td>286.7600</td>\n",
       "      <td>285.575</td>\n",
       "      <td>286.20</td>\n",
       "      <td>32602524</td>\n",
       "      <td>-0.000175</td>\n",
       "    </tr>\n",
       "    <tr>\n",
       "      <th>2018-08-23 00:00:00-04:00</th>\n",
       "      <td>106.67</td>\n",
       "      <td>106.705</td>\n",
       "      <td>106.62</td>\n",
       "      <td>106.620</td>\n",
       "      <td>1346950.0</td>\n",
       "      <td>-0.000375</td>\n",
       "      <td>285.97</td>\n",
       "      <td>286.9400</td>\n",
       "      <td>285.430</td>\n",
       "      <td>285.77</td>\n",
       "      <td>35732521</td>\n",
       "      <td>-0.001502</td>\n",
       "    </tr>\n",
       "  </tbody>\n",
       "</table>\n",
       "</div>"
      ],
      "text/plain": [
       "                              AGG                                       \\\n",
       "                             open     high     low    close     volume   \n",
       "time                                                                     \n",
       "2018-08-17 00:00:00-04:00  106.43  106.545  106.38  106.460  1915186.0   \n",
       "2018-08-20 00:00:00-04:00  106.59  106.680  106.53  106.650  2105513.0   \n",
       "2018-08-21 00:00:00-04:00  106.58  106.620  106.51  106.575  2596721.0   \n",
       "2018-08-22 00:00:00-04:00  106.66  106.710  106.57  106.660  1725557.0   \n",
       "2018-08-23 00:00:00-04:00  106.67  106.705  106.62  106.620  1346950.0   \n",
       "\n",
       "                                           SPY                             \\\n",
       "                          daily_return    open      high      low   close   \n",
       "time                                                                        \n",
       "2018-08-17 00:00:00-04:00          NaN  283.83  285.5601  283.370  285.02   \n",
       "2018-08-20 00:00:00-04:00     0.001785  285.57  285.9700  285.060  285.71   \n",
       "2018-08-21 00:00:00-04:00    -0.000703  286.24  287.3100  286.105  286.25   \n",
       "2018-08-22 00:00:00-04:00     0.000798  285.88  286.7600  285.575  286.20   \n",
       "2018-08-23 00:00:00-04:00    -0.000375  285.97  286.9400  285.430  285.77   \n",
       "\n",
       "                                                  \n",
       "                             volume daily_return  \n",
       "time                                              \n",
       "2018-08-17 00:00:00-04:00  43630918          NaN  \n",
       "2018-08-20 00:00:00-04:00  27878971     0.002421  \n",
       "2018-08-21 00:00:00-04:00  47719238     0.001890  \n",
       "2018-08-22 00:00:00-04:00  32602524    -0.000175  \n",
       "2018-08-23 00:00:00-04:00  35732521    -0.001502  "
      ]
     },
     "execution_count": 46,
     "metadata": {},
     "output_type": "execute_result"
    }
   ],
   "source": [
    "# Configure a Monte Carlo simulation to forecast 10 years cumulative returns\n",
    "# The weights should be split 20% to AGG and 80% to SPY.\n",
    "# Run 500 samples.\n",
    "\n",
    "MC_tenyears = MCSimulation(\n",
    "    portfolio_data = prices_df,\n",
    "    weights = [.20,.80],\n",
    "    num_simulation = 500,\n",
    "    num_trading_days = 252*10\n",
    ")\n",
    "\n",
    "# Review the simulation input data\n",
    "\n",
    "MC_tenyears.portfolio_data.head()\n"
   ]
  },
  {
   "cell_type": "code",
   "execution_count": 47,
   "metadata": {
    "collapsed": true,
    "jupyter": {
     "outputs_hidden": true
    },
    "tags": []
   },
   "outputs": [
    {
     "name": "stdout",
     "output_type": "stream",
     "text": [
      "Running Monte Carlo simulation number 0.\n",
      "Running Monte Carlo simulation number 10.\n",
      "Running Monte Carlo simulation number 20.\n",
      "Running Monte Carlo simulation number 30.\n",
      "Running Monte Carlo simulation number 40.\n",
      "Running Monte Carlo simulation number 50.\n",
      "Running Monte Carlo simulation number 60.\n",
      "Running Monte Carlo simulation number 70.\n",
      "Running Monte Carlo simulation number 80.\n",
      "Running Monte Carlo simulation number 90.\n",
      "Running Monte Carlo simulation number 100.\n",
      "Running Monte Carlo simulation number 110.\n",
      "Running Monte Carlo simulation number 120.\n",
      "Running Monte Carlo simulation number 130.\n",
      "Running Monte Carlo simulation number 140.\n",
      "Running Monte Carlo simulation number 150.\n",
      "Running Monte Carlo simulation number 160.\n",
      "Running Monte Carlo simulation number 170.\n",
      "Running Monte Carlo simulation number 180.\n",
      "Running Monte Carlo simulation number 190.\n",
      "Running Monte Carlo simulation number 200.\n",
      "Running Monte Carlo simulation number 210.\n",
      "Running Monte Carlo simulation number 220.\n",
      "Running Monte Carlo simulation number 230.\n",
      "Running Monte Carlo simulation number 240.\n",
      "Running Monte Carlo simulation number 250.\n",
      "Running Monte Carlo simulation number 260.\n",
      "Running Monte Carlo simulation number 270.\n",
      "Running Monte Carlo simulation number 280.\n",
      "Running Monte Carlo simulation number 290.\n",
      "Running Monte Carlo simulation number 300.\n",
      "Running Monte Carlo simulation number 310.\n",
      "Running Monte Carlo simulation number 320.\n",
      "Running Monte Carlo simulation number 330.\n",
      "Running Monte Carlo simulation number 340.\n",
      "Running Monte Carlo simulation number 350.\n",
      "Running Monte Carlo simulation number 360.\n",
      "Running Monte Carlo simulation number 370.\n",
      "Running Monte Carlo simulation number 380.\n",
      "Running Monte Carlo simulation number 390.\n",
      "Running Monte Carlo simulation number 400.\n",
      "Running Monte Carlo simulation number 410.\n",
      "Running Monte Carlo simulation number 420.\n",
      "Running Monte Carlo simulation number 430.\n",
      "Running Monte Carlo simulation number 440.\n",
      "Running Monte Carlo simulation number 450.\n",
      "Running Monte Carlo simulation number 460.\n",
      "Running Monte Carlo simulation number 470.\n",
      "Running Monte Carlo simulation number 480.\n",
      "Running Monte Carlo simulation number 490.\n"
     ]
    },
    {
     "data": {
      "text/html": [
       "<div>\n",
       "<style scoped>\n",
       "    .dataframe tbody tr th:only-of-type {\n",
       "        vertical-align: middle;\n",
       "    }\n",
       "\n",
       "    .dataframe tbody tr th {\n",
       "        vertical-align: top;\n",
       "    }\n",
       "\n",
       "    .dataframe thead th {\n",
       "        text-align: right;\n",
       "    }\n",
       "</style>\n",
       "<table border=\"1\" class=\"dataframe\">\n",
       "  <thead>\n",
       "    <tr style=\"text-align: right;\">\n",
       "      <th></th>\n",
       "      <th>0</th>\n",
       "      <th>1</th>\n",
       "      <th>2</th>\n",
       "      <th>3</th>\n",
       "      <th>4</th>\n",
       "      <th>5</th>\n",
       "      <th>6</th>\n",
       "      <th>7</th>\n",
       "      <th>8</th>\n",
       "      <th>9</th>\n",
       "      <th>...</th>\n",
       "      <th>490</th>\n",
       "      <th>491</th>\n",
       "      <th>492</th>\n",
       "      <th>493</th>\n",
       "      <th>494</th>\n",
       "      <th>495</th>\n",
       "      <th>496</th>\n",
       "      <th>497</th>\n",
       "      <th>498</th>\n",
       "      <th>499</th>\n",
       "    </tr>\n",
       "  </thead>\n",
       "  <tbody>\n",
       "    <tr>\n",
       "      <th>0</th>\n",
       "      <td>1.000000</td>\n",
       "      <td>1.000000</td>\n",
       "      <td>1.000000</td>\n",
       "      <td>1.000000</td>\n",
       "      <td>1.000000</td>\n",
       "      <td>1.000000</td>\n",
       "      <td>1.000000</td>\n",
       "      <td>1.000000</td>\n",
       "      <td>1.000000</td>\n",
       "      <td>1.000000</td>\n",
       "      <td>...</td>\n",
       "      <td>1.000000</td>\n",
       "      <td>1.000000</td>\n",
       "      <td>1.000000</td>\n",
       "      <td>1.000000</td>\n",
       "      <td>1.000000</td>\n",
       "      <td>1.000000</td>\n",
       "      <td>1.000000</td>\n",
       "      <td>1.000000</td>\n",
       "      <td>1.000000</td>\n",
       "      <td>1.000000</td>\n",
       "    </tr>\n",
       "    <tr>\n",
       "      <th>1</th>\n",
       "      <td>0.998118</td>\n",
       "      <td>0.992595</td>\n",
       "      <td>0.972125</td>\n",
       "      <td>0.987983</td>\n",
       "      <td>1.010412</td>\n",
       "      <td>1.025076</td>\n",
       "      <td>1.011827</td>\n",
       "      <td>0.991121</td>\n",
       "      <td>1.002062</td>\n",
       "      <td>0.992172</td>\n",
       "      <td>...</td>\n",
       "      <td>0.998775</td>\n",
       "      <td>1.007497</td>\n",
       "      <td>1.005985</td>\n",
       "      <td>0.990210</td>\n",
       "      <td>1.003882</td>\n",
       "      <td>1.006134</td>\n",
       "      <td>0.990378</td>\n",
       "      <td>0.993765</td>\n",
       "      <td>0.989522</td>\n",
       "      <td>0.988717</td>\n",
       "    </tr>\n",
       "    <tr>\n",
       "      <th>2</th>\n",
       "      <td>1.005125</td>\n",
       "      <td>0.987834</td>\n",
       "      <td>0.980366</td>\n",
       "      <td>0.995929</td>\n",
       "      <td>1.026077</td>\n",
       "      <td>1.016230</td>\n",
       "      <td>0.996703</td>\n",
       "      <td>0.983894</td>\n",
       "      <td>1.000629</td>\n",
       "      <td>0.977077</td>\n",
       "      <td>...</td>\n",
       "      <td>1.022316</td>\n",
       "      <td>1.008633</td>\n",
       "      <td>0.982263</td>\n",
       "      <td>0.990136</td>\n",
       "      <td>1.000574</td>\n",
       "      <td>1.003978</td>\n",
       "      <td>0.990561</td>\n",
       "      <td>1.016353</td>\n",
       "      <td>1.001817</td>\n",
       "      <td>0.995512</td>\n",
       "    </tr>\n",
       "    <tr>\n",
       "      <th>3</th>\n",
       "      <td>1.000899</td>\n",
       "      <td>0.999210</td>\n",
       "      <td>0.953741</td>\n",
       "      <td>0.984454</td>\n",
       "      <td>1.023621</td>\n",
       "      <td>1.025209</td>\n",
       "      <td>0.996686</td>\n",
       "      <td>0.965648</td>\n",
       "      <td>0.988223</td>\n",
       "      <td>0.978923</td>\n",
       "      <td>...</td>\n",
       "      <td>1.018805</td>\n",
       "      <td>0.999869</td>\n",
       "      <td>0.988240</td>\n",
       "      <td>0.989274</td>\n",
       "      <td>1.013122</td>\n",
       "      <td>1.032243</td>\n",
       "      <td>0.989795</td>\n",
       "      <td>1.018551</td>\n",
       "      <td>0.994808</td>\n",
       "      <td>1.005654</td>\n",
       "    </tr>\n",
       "    <tr>\n",
       "      <th>4</th>\n",
       "      <td>1.010139</td>\n",
       "      <td>0.983888</td>\n",
       "      <td>0.968015</td>\n",
       "      <td>0.980790</td>\n",
       "      <td>1.037350</td>\n",
       "      <td>1.027968</td>\n",
       "      <td>1.009487</td>\n",
       "      <td>0.966680</td>\n",
       "      <td>0.997768</td>\n",
       "      <td>0.990418</td>\n",
       "      <td>...</td>\n",
       "      <td>1.004667</td>\n",
       "      <td>1.021036</td>\n",
       "      <td>0.990194</td>\n",
       "      <td>0.991651</td>\n",
       "      <td>1.020989</td>\n",
       "      <td>1.038804</td>\n",
       "      <td>0.981451</td>\n",
       "      <td>1.032949</td>\n",
       "      <td>1.009556</td>\n",
       "      <td>0.988618</td>\n",
       "    </tr>\n",
       "    <tr>\n",
       "      <th>...</th>\n",
       "      <td>...</td>\n",
       "      <td>...</td>\n",
       "      <td>...</td>\n",
       "      <td>...</td>\n",
       "      <td>...</td>\n",
       "      <td>...</td>\n",
       "      <td>...</td>\n",
       "      <td>...</td>\n",
       "      <td>...</td>\n",
       "      <td>...</td>\n",
       "      <td>...</td>\n",
       "      <td>...</td>\n",
       "      <td>...</td>\n",
       "      <td>...</td>\n",
       "      <td>...</td>\n",
       "      <td>...</td>\n",
       "      <td>...</td>\n",
       "      <td>...</td>\n",
       "      <td>...</td>\n",
       "      <td>...</td>\n",
       "      <td>...</td>\n",
       "    </tr>\n",
       "    <tr>\n",
       "      <th>2516</th>\n",
       "      <td>0.769624</td>\n",
       "      <td>1.989363</td>\n",
       "      <td>1.452629</td>\n",
       "      <td>1.095903</td>\n",
       "      <td>6.610456</td>\n",
       "      <td>4.034378</td>\n",
       "      <td>3.733781</td>\n",
       "      <td>2.276636</td>\n",
       "      <td>3.978825</td>\n",
       "      <td>3.240356</td>\n",
       "      <td>...</td>\n",
       "      <td>5.634971</td>\n",
       "      <td>3.450930</td>\n",
       "      <td>2.319404</td>\n",
       "      <td>1.477072</td>\n",
       "      <td>1.520389</td>\n",
       "      <td>2.952603</td>\n",
       "      <td>1.637159</td>\n",
       "      <td>4.151399</td>\n",
       "      <td>2.710495</td>\n",
       "      <td>0.596645</td>\n",
       "    </tr>\n",
       "    <tr>\n",
       "      <th>2517</th>\n",
       "      <td>0.774272</td>\n",
       "      <td>2.050625</td>\n",
       "      <td>1.452378</td>\n",
       "      <td>1.098887</td>\n",
       "      <td>6.539492</td>\n",
       "      <td>4.037625</td>\n",
       "      <td>3.688803</td>\n",
       "      <td>2.268843</td>\n",
       "      <td>4.106649</td>\n",
       "      <td>3.296120</td>\n",
       "      <td>...</td>\n",
       "      <td>5.583919</td>\n",
       "      <td>3.471153</td>\n",
       "      <td>2.336178</td>\n",
       "      <td>1.448988</td>\n",
       "      <td>1.531783</td>\n",
       "      <td>2.958524</td>\n",
       "      <td>1.699187</td>\n",
       "      <td>4.101952</td>\n",
       "      <td>2.665332</td>\n",
       "      <td>0.597670</td>\n",
       "    </tr>\n",
       "    <tr>\n",
       "      <th>2518</th>\n",
       "      <td>0.784377</td>\n",
       "      <td>2.066836</td>\n",
       "      <td>1.453282</td>\n",
       "      <td>1.109299</td>\n",
       "      <td>6.574429</td>\n",
       "      <td>4.119702</td>\n",
       "      <td>3.796364</td>\n",
       "      <td>2.280515</td>\n",
       "      <td>4.132281</td>\n",
       "      <td>3.350995</td>\n",
       "      <td>...</td>\n",
       "      <td>5.576541</td>\n",
       "      <td>3.512661</td>\n",
       "      <td>2.339369</td>\n",
       "      <td>1.433373</td>\n",
       "      <td>1.505950</td>\n",
       "      <td>2.965530</td>\n",
       "      <td>1.713157</td>\n",
       "      <td>4.084461</td>\n",
       "      <td>2.695334</td>\n",
       "      <td>0.598968</td>\n",
       "    </tr>\n",
       "    <tr>\n",
       "      <th>2519</th>\n",
       "      <td>0.782963</td>\n",
       "      <td>2.054231</td>\n",
       "      <td>1.496598</td>\n",
       "      <td>1.102495</td>\n",
       "      <td>6.500874</td>\n",
       "      <td>4.130640</td>\n",
       "      <td>3.830484</td>\n",
       "      <td>2.303620</td>\n",
       "      <td>4.118433</td>\n",
       "      <td>3.300348</td>\n",
       "      <td>...</td>\n",
       "      <td>5.503833</td>\n",
       "      <td>3.406501</td>\n",
       "      <td>2.334656</td>\n",
       "      <td>1.411833</td>\n",
       "      <td>1.526101</td>\n",
       "      <td>3.045201</td>\n",
       "      <td>1.709514</td>\n",
       "      <td>4.106539</td>\n",
       "      <td>2.718562</td>\n",
       "      <td>0.608418</td>\n",
       "    </tr>\n",
       "    <tr>\n",
       "      <th>2520</th>\n",
       "      <td>0.786338</td>\n",
       "      <td>2.091822</td>\n",
       "      <td>1.499997</td>\n",
       "      <td>1.109725</td>\n",
       "      <td>6.587440</td>\n",
       "      <td>4.148827</td>\n",
       "      <td>3.837686</td>\n",
       "      <td>2.336645</td>\n",
       "      <td>4.138301</td>\n",
       "      <td>3.390900</td>\n",
       "      <td>...</td>\n",
       "      <td>5.482977</td>\n",
       "      <td>3.544916</td>\n",
       "      <td>2.328428</td>\n",
       "      <td>1.384631</td>\n",
       "      <td>1.550907</td>\n",
       "      <td>3.047893</td>\n",
       "      <td>1.724503</td>\n",
       "      <td>4.148954</td>\n",
       "      <td>2.714061</td>\n",
       "      <td>0.594892</td>\n",
       "    </tr>\n",
       "  </tbody>\n",
       "</table>\n",
       "<p>2521 rows × 500 columns</p>\n",
       "</div>"
      ],
      "text/plain": [
       "           0         1         2         3         4         5         6    \\\n",
       "0     1.000000  1.000000  1.000000  1.000000  1.000000  1.000000  1.000000   \n",
       "1     0.998118  0.992595  0.972125  0.987983  1.010412  1.025076  1.011827   \n",
       "2     1.005125  0.987834  0.980366  0.995929  1.026077  1.016230  0.996703   \n",
       "3     1.000899  0.999210  0.953741  0.984454  1.023621  1.025209  0.996686   \n",
       "4     1.010139  0.983888  0.968015  0.980790  1.037350  1.027968  1.009487   \n",
       "...        ...       ...       ...       ...       ...       ...       ...   \n",
       "2516  0.769624  1.989363  1.452629  1.095903  6.610456  4.034378  3.733781   \n",
       "2517  0.774272  2.050625  1.452378  1.098887  6.539492  4.037625  3.688803   \n",
       "2518  0.784377  2.066836  1.453282  1.109299  6.574429  4.119702  3.796364   \n",
       "2519  0.782963  2.054231  1.496598  1.102495  6.500874  4.130640  3.830484   \n",
       "2520  0.786338  2.091822  1.499997  1.109725  6.587440  4.148827  3.837686   \n",
       "\n",
       "           7         8         9    ...       490       491       492  \\\n",
       "0     1.000000  1.000000  1.000000  ...  1.000000  1.000000  1.000000   \n",
       "1     0.991121  1.002062  0.992172  ...  0.998775  1.007497  1.005985   \n",
       "2     0.983894  1.000629  0.977077  ...  1.022316  1.008633  0.982263   \n",
       "3     0.965648  0.988223  0.978923  ...  1.018805  0.999869  0.988240   \n",
       "4     0.966680  0.997768  0.990418  ...  1.004667  1.021036  0.990194   \n",
       "...        ...       ...       ...  ...       ...       ...       ...   \n",
       "2516  2.276636  3.978825  3.240356  ...  5.634971  3.450930  2.319404   \n",
       "2517  2.268843  4.106649  3.296120  ...  5.583919  3.471153  2.336178   \n",
       "2518  2.280515  4.132281  3.350995  ...  5.576541  3.512661  2.339369   \n",
       "2519  2.303620  4.118433  3.300348  ...  5.503833  3.406501  2.334656   \n",
       "2520  2.336645  4.138301  3.390900  ...  5.482977  3.544916  2.328428   \n",
       "\n",
       "           493       494       495       496       497       498       499  \n",
       "0     1.000000  1.000000  1.000000  1.000000  1.000000  1.000000  1.000000  \n",
       "1     0.990210  1.003882  1.006134  0.990378  0.993765  0.989522  0.988717  \n",
       "2     0.990136  1.000574  1.003978  0.990561  1.016353  1.001817  0.995512  \n",
       "3     0.989274  1.013122  1.032243  0.989795  1.018551  0.994808  1.005654  \n",
       "4     0.991651  1.020989  1.038804  0.981451  1.032949  1.009556  0.988618  \n",
       "...        ...       ...       ...       ...       ...       ...       ...  \n",
       "2516  1.477072  1.520389  2.952603  1.637159  4.151399  2.710495  0.596645  \n",
       "2517  1.448988  1.531783  2.958524  1.699187  4.101952  2.665332  0.597670  \n",
       "2518  1.433373  1.505950  2.965530  1.713157  4.084461  2.695334  0.598968  \n",
       "2519  1.411833  1.526101  3.045201  1.709514  4.106539  2.718562  0.608418  \n",
       "2520  1.384631  1.550907  3.047893  1.724503  4.148954  2.714061  0.594892  \n",
       "\n",
       "[2521 rows x 500 columns]"
      ]
     },
     "execution_count": 47,
     "metadata": {},
     "output_type": "execute_result"
    }
   ],
   "source": [
    "# Run the Monte Carlo simulation to forecast 10 years cumulative returns\n",
    "MC_tenyears.calc_cumulative_return()\n"
   ]
  },
  {
   "cell_type": "code",
   "execution_count": 48,
   "metadata": {},
   "outputs": [
    {
     "name": "stdout",
     "output_type": "stream",
     "text": [
      "count           500.000000\n",
      "mean              2.935489\n",
      "std               2.631854\n",
      "min               0.416723\n",
      "25%               1.417373\n",
      "50%               2.298557\n",
      "75%               3.566756\n",
      "max              33.679774\n",
      "95% CI Lower      0.684509\n",
      "95% CI Upper      9.430677\n",
      "Name: 2520, dtype: float64\n"
     ]
    }
   ],
   "source": [
    "# Visualize the 10-year Monte Carlo simulation by creating an\n",
    "# overlay line plot\n",
    "MC_summary_statistics = MC_tenyears.summarize_cumulative_return()\n",
    "\n",
    "# Review the 10-year Monte Carlo summary statistics\n",
    "print(MC_summary_statistics)"
   ]
  },
  {
   "cell_type": "code",
   "execution_count": 49,
   "metadata": {},
   "outputs": [
    {
     "data": {
      "image/png": "[encoded data removed]",
      "text/plain": [
       "<Figure size 432x288 with 1 Axes>"
      ]
     },
     "metadata": {
      "needs_background": "light"
     },
     "output_type": "display_data"
    }
   ],
   "source": [
    "# Visualize the probability distribution of the 10-year Monte Carlo simulation \n",
    "# by plotting a histogram\n",
    "\n",
    "MC_sim_line_plot = MC_tenyears.plot_simulation()"
   ]
  },
  {
   "cell_type": "code",
   "execution_count": 50,
   "metadata": {},
   "outputs": [
    {
     "name": "stdout",
     "output_type": "stream",
     "text": [
      "count           500.000000\n",
      "mean              2.935489\n",
      "std               2.631854\n",
      "min               0.416723\n",
      "25%               1.417373\n",
      "50%               2.298557\n",
      "75%               3.566756\n",
      "max              33.679774\n",
      "95% CI Lower      0.684509\n",
      "95% CI Upper      9.430677\n",
      "Name: 2520, dtype: float64\n"
     ]
    }
   ],
   "source": [
    "# Generate summary statistics from the 10-year Monte Carlo simulation results\n",
    "# Save the results as a variable\n",
    "MC_summary_statistics = MC_tenyears.summarize_cumulative_return()\n",
    "\n",
    "# Review the 10-year Monte Carlo summary statistics\n",
    "print(MC_summary_statistics)"
   ]
  },
  {
   "cell_type": "code",
   "execution_count": 53,
   "metadata": {},
   "outputs": [
    {
     "data": {
      "image/png": "[encoded data removed]",
      "text/plain": [
       "<Figure size 432x288 with 1 Axes>"
      ]
     },
     "metadata": {
      "needs_background": "light"
     },
     "output_type": "display_data"
    }
   ],
   "source": [
    "MC_sim_dist_plot = MC_tenyears.plot_distribution()"
   ]
  },
  {
   "cell_type": "markdown",
   "metadata": {
    "tags": []
   },
   "source": [
    "### Answer the following questions:"
   ]
  },
  {
   "cell_type": "markdown",
   "metadata": {},
   "source": [
    "#### Question: Using the current value of only the stock and bond portion of the member's portfolio and the summary statistics that you generated from the new Monte Carlo simulation, what are the lower and upper bounds for the expected value of the portfolio (with the new weights) with a 95% confidence interval?"
   ]
  },
  {
   "cell_type": "code",
   "execution_count": 51,
   "metadata": {},
   "outputs": [
    {
     "name": "stdout",
     "output_type": "stream",
     "text": [
      "60689.5\n"
     ]
    }
   ],
   "source": [
    "# Print the current balance of the stock and bond portion of the members portfolio\n",
    "print(total_stocks_bonds)\n"
   ]
  },
  {
   "cell_type": "code",
   "execution_count": 52,
   "metadata": {},
   "outputs": [
    {
     "data": {
      "text/plain": [
       "'There is a 95% chance that an initial investment of 60689.5 in the portfolio over the next 10 years will end within in the range of $ 41542.50 and $ 572343.06.'"
      ]
     },
     "execution_count": 52,
     "metadata": {},
     "output_type": "execute_result"
    }
   ],
   "source": [
    "# Use the lower and upper `95%` confidence intervals to calculate the range of the possible outcomes for the current stock/bond portfolio\n",
    "ci_lower_ten_cumulative_return = MC_summary_statistics[8] * total_stocks_bonds\n",
    "ci_upper_ten_cumulative_return = MC_summary_statistics[9] * total_stocks_bonds\n",
    "\n",
    "# Print the result of your calculations\n",
    "(f\"There is a 95% chance that an initial investment of {total_stocks_bonds} in the portfolio\"\n",
    "  f\" over the next 10 years will end within in the range of\"\n",
    "  f\" ${ci_lower_ten_cumulative_return: .2f} and ${ci_upper_ten_cumulative_return: .2f}.\")\n"
   ]
  },
  {
   "cell_type": "markdown",
   "metadata": {},
   "source": [
    "#### Question: Will weighting the portfolio more heavily to stocks allow the credit union members to retire after only 10 years?"
   ]
  },
  {
   "cell_type": "raw",
   "metadata": {},
   "source": [
    "There is a 75% probability that the fund will have a modest growth of 41% or 41 basis points. This may be more risk than a person nearing retierment is comforatable with. "
   ]
  }
 ],
 "metadata": {
  "kernelspec": {
   "display_name": "Python (dev)",
   "language": "python",
   "name": "dev"
  },
  "language_info": {
   "codemirror_mode": {
    "name": "ipython",
    "version": 3
   },
   "file_extension": ".py",
   "mimetype": "text/x-python",
   "name": "python",
   "nbconvert_exporter": "python",
   "pygments_lexer": "ipython3",
   "version": "3.7.10"
  }
 },
 "nbformat": 4,
 "nbformat_minor": 4
}
